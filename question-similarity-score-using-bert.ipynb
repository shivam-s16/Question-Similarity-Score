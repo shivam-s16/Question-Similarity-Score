{
 "cells": [
  {
   "cell_type": "markdown",
   "id": "f7410d59",
   "metadata": {
    "papermill": {
     "duration": 0.010457,
     "end_time": "2022-07-06T04:31:49.270785",
     "exception": false,
     "start_time": "2022-07-06T04:31:49.260328",
     "status": "completed"
    },
    "tags": []
   },
   "source": [
    "# Task analysis\n",
    "1. Overall this is a text matching task\n",
    "2. Need an indicator to measure whether question 1 and question 2 are similar\n",
    "3. Unstructured data(text) is stored in structured tables"
   ]
  },
  {
   "cell_type": "code",
   "execution_count": 1,
   "id": "39860bc6",
   "metadata": {
    "execution": {
     "iopub.execute_input": "2022-07-06T04:31:49.292219Z",
     "iopub.status.busy": "2022-07-06T04:31:49.291616Z",
     "iopub.status.idle": "2022-07-06T04:31:56.460965Z",
     "shell.execute_reply": "2022-07-06T04:31:56.460021Z"
    },
    "papermill": {
     "duration": 7.183497,
     "end_time": "2022-07-06T04:31:56.463830",
     "exception": false,
     "start_time": "2022-07-06T04:31:49.280333",
     "status": "completed"
    },
    "tags": []
   },
   "outputs": [],
   "source": [
    "import torch\n",
    "import torch.nn as nn\n",
    "import numpy as np\n",
    "import re\n",
    "from nltk.corpus import stopwords \n",
    "from nltk.tokenize import word_tokenize \n",
    "import seaborn as sns\n",
    "import matplotlib.pyplot as plt\n",
    "from tqdm import tqdm\n",
    "from sklearn.model_selection import train_test_split\n",
    "import pandas as pd\n",
    "import transformers\n",
    "from transformers import BertModel, BertTokenizer, AdamW, get_linear_schedule_with_warmup\n",
    "transformers.logging.set_verbosity_error()"
   ]
  },
  {
   "cell_type": "code",
   "execution_count": 2,
   "id": "964fb526",
   "metadata": {
    "execution": {
     "iopub.execute_input": "2022-07-06T04:31:56.482633Z",
     "iopub.status.busy": "2022-07-06T04:31:56.482111Z",
     "iopub.status.idle": "2022-07-06T04:31:56.539250Z",
     "shell.execute_reply": "2022-07-06T04:31:56.538074Z"
    },
    "papermill": {
     "duration": 0.068634,
     "end_time": "2022-07-06T04:31:56.541329",
     "exception": false,
     "start_time": "2022-07-06T04:31:56.472695",
     "status": "completed"
    },
    "tags": []
   },
   "outputs": [],
   "source": [
    "\n",
    "device = torch.device(\"cuda\" if torch.cuda.is_available() else \"cpu\")"
   ]
  },
  {
   "cell_type": "code",
   "execution_count": 3,
   "id": "957d17d2",
   "metadata": {
    "execution": {
     "iopub.execute_input": "2022-07-06T04:31:56.561019Z",
     "iopub.status.busy": "2022-07-06T04:31:56.559376Z",
     "iopub.status.idle": "2022-07-06T04:31:56.567612Z",
     "shell.execute_reply": "2022-07-06T04:31:56.566753Z"
    },
    "papermill": {
     "duration": 0.019549,
     "end_time": "2022-07-06T04:31:56.569553",
     "exception": false,
     "start_time": "2022-07-06T04:31:56.550004",
     "status": "completed"
    },
    "tags": []
   },
   "outputs": [],
   "source": [
    "\n",
    "SEED = 1024\n",
    "\n",
    "np.random.seed(SEED)\n",
    "torch.manual_seed(SEED)\n",
    "torch.cuda.manual_seed(SEED)\n",
    "torch.backends.cudnn.deterministic = True"
   ]
  },
  {
   "cell_type": "markdown",
   "id": "f564925f",
   "metadata": {
    "papermill": {
     "duration": 0.0082,
     "end_time": "2022-07-06T04:31:56.586228",
     "exception": false,
     "start_time": "2022-07-06T04:31:56.578028",
     "status": "completed"
    },
    "tags": []
   },
   "source": [
    "# Data Analysis"
   ]
  },
  {
   "cell_type": "code",
   "execution_count": 4,
   "id": "1e2ac98c",
   "metadata": {
    "execution": {
     "iopub.execute_input": "2022-07-06T04:31:56.604496Z",
     "iopub.status.busy": "2022-07-06T04:31:56.604192Z",
     "iopub.status.idle": "2022-07-06T04:31:58.352106Z",
     "shell.execute_reply": "2022-07-06T04:31:58.349272Z"
    },
    "papermill": {
     "duration": 1.760164,
     "end_time": "2022-07-06T04:31:58.354805",
     "exception": false,
     "start_time": "2022-07-06T04:31:56.594641",
     "status": "completed"
    },
    "tags": []
   },
   "outputs": [
    {
     "name": "stdout",
     "output_type": "stream",
     "text": [
      "<class 'pandas.core.frame.DataFrame'>\n",
      "RangeIndex: 404290 entries, 0 to 404289\n",
      "Data columns (total 6 columns):\n",
      " #   Column        Non-Null Count   Dtype \n",
      "---  ------        --------------   ----- \n",
      " 0   id            404290 non-null  int64 \n",
      " 1   qid1          404290 non-null  int64 \n",
      " 2   qid2          404290 non-null  int64 \n",
      " 3   question1     404289 non-null  object\n",
      " 4   question2     404288 non-null  object\n",
      " 5   is_duplicate  404290 non-null  int64 \n",
      "dtypes: int64(4), object(2)\n",
      "memory usage: 18.5+ MB\n"
     ]
    }
   ],
   "source": [
    "\n",
    "train_df = pd.read_csv(\"../input/quora-questions-pair/Quora.csv\")\n",
    "train_df.info()"
   ]
  },
  {
   "cell_type": "code",
   "execution_count": 5,
   "id": "1116f200",
   "metadata": {
    "execution": {
     "iopub.execute_input": "2022-07-06T04:31:58.374349Z",
     "iopub.status.busy": "2022-07-06T04:31:58.374027Z",
     "iopub.status.idle": "2022-07-06T04:32:04.602961Z",
     "shell.execute_reply": "2022-07-06T04:32:04.602005Z"
    },
    "papermill": {
     "duration": 6.241141,
     "end_time": "2022-07-06T04:32:04.605390",
     "exception": false,
     "start_time": "2022-07-06T04:31:58.364249",
     "status": "completed"
    },
    "tags": []
   },
   "outputs": [
    {
     "name": "stderr",
     "output_type": "stream",
     "text": [
      "/opt/conda/lib/python3.7/site-packages/seaborn/distributions.py:2619: FutureWarning: `distplot` is a deprecated function and will be removed in a future version. Please adapt your code to use either `displot` (a figure-level function with similar flexibility) or `histplot` (an axes-level function for histograms).\n",
      "  warnings.warn(msg, FutureWarning)\n"
     ]
    },
    {
     "data": {
      "text/plain": [
       "<AxesSubplot:ylabel='Density'>"
      ]
     },
     "execution_count": 5,
     "metadata": {},
     "output_type": "execute_result"
    },
    {
     "data": {
      "image/png": "[encoded data removed]",
      "text/plain": [
       "<Figure size 432x288 with 1 Axes>"
      ]
     },
     "metadata": {
      "needs_background": "light"
     },
     "output_type": "display_data"
    }
   ],
   "source": [
    "\n",
    "train_df.dropna(inplace=True)\n",
    "train_sentences_lens = train_df['question1'].apply(lambda x: len(x.split(' '))).tolist()\n",
    "train_sentences_lens.extend(train_df['question2'].apply(lambda x: len(x.split(' '))).tolist())\n",
    "sns.distplot(train_sentences_lens)"
   ]
  },
  {
   "cell_type": "code",
   "execution_count": 6,
   "id": "56684828",
   "metadata": {
    "execution": {
     "iopub.execute_input": "2022-07-06T04:32:04.625460Z",
     "iopub.status.busy": "2022-07-06T04:32:04.625119Z",
     "iopub.status.idle": "2022-07-06T04:32:04.629821Z",
     "shell.execute_reply": "2022-07-06T04:32:04.628623Z"
    },
    "papermill": {
     "duration": 0.0175,
     "end_time": "2022-07-06T04:32:04.632218",
     "exception": false,
     "start_time": "2022-07-06T04:32:04.614718",
     "status": "completed"
    },
    "tags": []
   },
   "outputs": [],
   "source": [
    "\n",
    "MAX_LEN = 40"
   ]
  },
  {
   "cell_type": "code",
   "execution_count": 7,
   "id": "267b82f2",
   "metadata": {
    "execution": {
     "iopub.execute_input": "2022-07-06T04:32:04.652059Z",
     "iopub.status.busy": "2022-07-06T04:32:04.651764Z",
     "iopub.status.idle": "2022-07-06T04:32:04.828771Z",
     "shell.execute_reply": "2022-07-06T04:32:04.827684Z"
    },
    "papermill": {
     "duration": 0.1898,
     "end_time": "2022-07-06T04:32:04.831602",
     "exception": false,
     "start_time": "2022-07-06T04:32:04.641802",
     "status": "completed"
    },
    "tags": []
   },
   "outputs": [
    {
     "data": {
      "image/png": "[encoded data removed]",
      "text/plain": [
       "<Figure size 432x288 with 1 Axes>"
      ]
     },
     "metadata": {},
     "output_type": "display_data"
    }
   ],
   "source": [
    "\n",
    "def pie_chart(similar_questions_num, different_questions_num, set_type):\n",
    "    labels = 'Similiar', 'Different'\n",
    "    sizes = [similar_questions_num, different_questions_num]\n",
    "\n",
    "    fig1, ax1 = plt.subplots()\n",
    "    ax1.set_title(set_type)\n",
    "    ax1.pie(sizes, labels=labels, autopct='%1.2f%%', shadow=True, startangle=90)\n",
    "\n",
    "    plt.show()\n",
    "\n",
    "similar_samples_num = sum(train_df['is_duplicate'].values)\n",
    "pie_chart(similar_samples_num, len(train_df['is_duplicate']) - similar_samples_num, 'train set')"
   ]
  },
  {
   "cell_type": "code",
   "execution_count": 8,
   "id": "e61798df",
   "metadata": {
    "execution": {
     "iopub.execute_input": "2022-07-06T04:32:04.871227Z",
     "iopub.status.busy": "2022-07-06T04:32:04.870688Z",
     "iopub.status.idle": "2022-07-06T04:32:05.420310Z",
     "shell.execute_reply": "2022-07-06T04:32:05.419233Z"
    },
    "papermill": {
     "duration": 0.573437,
     "end_time": "2022-07-06T04:32:05.423771",
     "exception": false,
     "start_time": "2022-07-06T04:32:04.850334",
     "status": "completed"
    },
    "tags": []
   },
   "outputs": [
    {
     "name": "stdout",
     "output_type": "stream",
     "text": [
      "Unique Questions number: 537929\n",
      "\n",
      "Top 5 most frequently asked questions: \n",
      "['Why do I not lose weight when I throw up? count: 157']\n",
      "['If I link my Instagram account to my Facebook account, will my friends from Facebook be able to see the photos I post even if my Instagram account is private? count: 120']\n",
      "['What are some ways to lose 25 pounds in one month? count: 111']\n",
      "['How can I make money online in India? count: 88']\n",
      "['How do I make money using Instagram? count: 79']\n"
     ]
    }
   ],
   "source": [
    "\n",
    "qids = pd.Series(list(train_df['qid1']) + list(train_df['qid2']))\n",
    "\n",
    "print ('Unique Questions number: {}\\n'.format(len(np.unique(qids))))\n",
    "\n",
    "q_vals=qids.value_counts()[0:5]\n",
    "print ('Top 5 most frequently asked questions: ')\n",
    "\n",
    "for pair in q_vals.iteritems():\n",
    "    print(train_df.loc[train_df['qid2']==pair[0]]['question1'].head(1).values + \" count: \" + str(pair[1]))\n",
    "\n",
    "q_vals=q_vals.values"
   ]
  },
  {
   "cell_type": "code",
   "execution_count": 9,
   "id": "b8edf88a",
   "metadata": {
    "execution": {
     "iopub.execute_input": "2022-07-06T04:32:05.444812Z",
     "iopub.status.busy": "2022-07-06T04:32:05.444476Z",
     "iopub.status.idle": "2022-07-06T04:32:05.492205Z",
     "shell.execute_reply": "2022-07-06T04:32:05.491107Z"
    },
    "papermill": {
     "duration": 0.060745,
     "end_time": "2022-07-06T04:32:05.494503",
     "exception": false,
     "start_time": "2022-07-06T04:32:05.433758",
     "status": "completed"
    },
    "tags": []
   },
   "outputs": [
    {
     "name": "stdout",
     "output_type": "stream",
     "text": [
      "Number of duplicate questions :  0\n"
     ]
    }
   ],
   "source": [
    "\n",
    "duplicate_rows = train_df[train_df.duplicated(['qid1','qid2'])]\n",
    "print (\"Number of duplicate questions : \", len(duplicate_rows))"
   ]
  },
  {
   "cell_type": "code",
   "execution_count": 10,
   "id": "ef3d347d",
   "metadata": {
    "execution": {
     "iopub.execute_input": "2022-07-06T04:32:05.515924Z",
     "iopub.status.busy": "2022-07-06T04:32:05.515348Z",
     "iopub.status.idle": "2022-07-06T04:32:05.780093Z",
     "shell.execute_reply": "2022-07-06T04:32:05.779008Z"
    },
    "papermill": {
     "duration": 0.278385,
     "end_time": "2022-07-06T04:32:05.782950",
     "exception": false,
     "start_time": "2022-07-06T04:32:05.504565",
     "status": "completed"
    },
    "tags": []
   },
   "outputs": [
    {
     "name": "stderr",
     "output_type": "stream",
     "text": [
      "/opt/conda/lib/python3.7/site-packages/seaborn/_decorators.py:43: FutureWarning: Pass the following variables as keyword args: x, y. From version 0.12, the only valid positional argument will be `data`, and passing other arguments without an explicit keyword will result in an error or misinterpretation.\n",
      "  FutureWarning\n"
     ]
    },
    {
     "data": {
      "image/png": "[encoded data removed]",
      "text/plain": [
       "<Figure size 720x576 with 1 Axes>"
      ]
     },
     "metadata": {
      "needs_background": "light"
     },
     "output_type": "display_data"
    }
   ],
   "source": [
    "\n",
    "x = [\"Unique\" , \"Repeated\"]\n",
    "y =  [len(np.unique(qids)), np.sum(qids.value_counts() > 1)]\n",
    "\n",
    "plt.figure(figsize=(10, 8))\n",
    "plt.title (\"Unique and Repeated questions counts\")\n",
    "sns.barplot(x,y)\n",
    "plt.show()\n"
   ]
  },
  {
   "cell_type": "code",
   "execution_count": 11,
   "id": "ec7c4b35",
   "metadata": {
    "execution": {
     "iopub.execute_input": "2022-07-06T04:32:05.806848Z",
     "iopub.status.busy": "2022-07-06T04:32:05.806520Z",
     "iopub.status.idle": "2022-07-06T04:32:19.954140Z",
     "shell.execute_reply": "2022-07-06T04:32:19.953120Z"
    },
    "papermill": {
     "duration": 14.161806,
     "end_time": "2022-07-06T04:32:19.956784",
     "exception": false,
     "start_time": "2022-07-06T04:32:05.794978",
     "status": "completed"
    },
    "tags": []
   },
   "outputs": [
    {
     "name": "stderr",
     "output_type": "stream",
     "text": [
      "/opt/conda/lib/python3.7/site-packages/seaborn/distributions.py:2619: FutureWarning: `distplot` is a deprecated function and will be removed in a future version. Please adapt your code to use either `displot` (a figure-level function with similar flexibility) or `histplot` (an axes-level function for histograms).\n",
      "  warnings.warn(msg, FutureWarning)\n",
      "/opt/conda/lib/python3.7/site-packages/seaborn/distributions.py:2619: FutureWarning: `distplot` is a deprecated function and will be removed in a future version. Please adapt your code to use either `displot` (a figure-level function with similar flexibility) or `histplot` (an axes-level function for histograms).\n",
      "  warnings.warn(msg, FutureWarning)\n"
     ]
    },
    {
     "data": {
      "image/png": "[encoded data removed]",
      "text/plain": [
       "<Figure size 1080x720 with 2 Axes>"
      ]
     },
     "metadata": {
      "needs_background": "light"
     },
     "output_type": "display_data"
    }
   ],
   "source": [
    "\n",
    "def common_words(row):\n",
    "    q1_word_set = set(map(lambda word: word.lower().strip(), row['question1'].split(\" \")))\n",
    "    q2_word_set = set(map(lambda word: word.lower().strip(), row['question2'].split(\" \")))    \n",
    "    return 1.0 * len(q1_word_set & q2_word_set)\n",
    "\n",
    "train_df['common_words'] = train_df.apply(common_words, axis=1)\n",
    "plt.figure(figsize=(15, 10))\n",
    "\n",
    "plt.subplot(1,2,2)\n",
    "sns.distplot(train_df[train_df['is_duplicate'] == 1]['common_words'][0:] , label = \"1\", color = 'red')\n",
    "sns.distplot(train_df[train_df['is_duplicate'] == 0]['common_words'][0:] , label = \"0\" , color = 'blue' )\n",
    "\n",
    "plt.subplot(1,2,1)\n",
    "sns.violinplot(x = 'is_duplicate', y = 'common_words', data = train_df[0:])\n",
    "\n",
    "plt.show()"
   ]
  },
  {
   "cell_type": "code",
   "execution_count": 12,
   "id": "a91f48b8",
   "metadata": {
    "execution": {
     "iopub.execute_input": "2022-07-06T04:32:19.979775Z",
     "iopub.status.busy": "2022-07-06T04:32:19.979439Z",
     "iopub.status.idle": "2022-07-06T04:32:34.271736Z",
     "shell.execute_reply": "2022-07-06T04:32:34.270862Z"
    },
    "papermill": {
     "duration": 14.306155,
     "end_time": "2022-07-06T04:32:34.273976",
     "exception": false,
     "start_time": "2022-07-06T04:32:19.967821",
     "status": "completed"
    },
    "tags": []
   },
   "outputs": [
    {
     "name": "stderr",
     "output_type": "stream",
     "text": [
      "/opt/conda/lib/python3.7/site-packages/seaborn/distributions.py:2619: FutureWarning: `distplot` is a deprecated function and will be removed in a future version. Please adapt your code to use either `displot` (a figure-level function with similar flexibility) or `histplot` (an axes-level function for histograms).\n",
      "  warnings.warn(msg, FutureWarning)\n",
      "/opt/conda/lib/python3.7/site-packages/seaborn/distributions.py:2619: FutureWarning: `distplot` is a deprecated function and will be removed in a future version. Please adapt your code to use either `displot` (a figure-level function with similar flexibility) or `histplot` (an axes-level function for histograms).\n",
      "  warnings.warn(msg, FutureWarning)\n"
     ]
    },
    {
     "data": {
      "image/png": "[encoded data removed]",
      "text/plain": [
       "<Figure size 1080x720 with 2 Axes>"
      ]
     },
     "metadata": {
      "needs_background": "light"
     },
     "output_type": "display_data"
    }
   ],
   "source": [
    "\n",
    "def shared_words(row):\n",
    "    q1_word_set = set(map(lambda word: word.lower().strip(), row['question1'].split(\" \")))\n",
    "    q2_word_set = set(map(lambda word: word.lower().strip(), row['question2'].split(\" \")))    \n",
    "    return 1.0 * len(q1_word_set & q2_word_set) / (len(q1_word_set) + len(q2_word_set))    \n",
    "\n",
    "train_df['shared_words'] = train_df.apply(shared_words, axis=1)\n",
    "plt.figure(figsize=(15, 10))\n",
    "\n",
    "plt.subplot(1,2,2)\n",
    "sns.distplot(train_df[train_df['is_duplicate'] == 1]['shared_words'][0:] , label = \"1\", color = 'red')\n",
    "sns.distplot(train_df[train_df['is_duplicate'] == 0]['shared_words'][0:] , label = \"0\" , color = 'green' )\n",
    "\n",
    "plt.subplot(1,2,1)\n",
    "sns.violinplot(x = 'is_duplicate', y = 'shared_words', data = train_df[0:])\n",
    "\n",
    "plt.show()"
   ]
  },
  {
   "cell_type": "markdown",
   "id": "0ce22280",
   "metadata": {
    "papermill": {
     "duration": 0.011594,
     "end_time": "2022-07-06T04:32:34.297660",
     "exception": false,
     "start_time": "2022-07-06T04:32:34.286066",
     "status": "completed"
    },
    "tags": []
   },
   "source": [
    "# Data Cleaning"
   ]
  },
  {
   "cell_type": "code",
   "execution_count": 13,
   "id": "c3a1a7e7",
   "metadata": {
    "execution": {
     "iopub.execute_input": "2022-07-06T04:32:34.322563Z",
     "iopub.status.busy": "2022-07-06T04:32:34.321926Z",
     "iopub.status.idle": "2022-07-06T04:32:34.333998Z",
     "shell.execute_reply": "2022-07-06T04:32:34.333104Z"
    },
    "papermill": {
     "duration": 0.026757,
     "end_time": "2022-07-06T04:32:34.335898",
     "exception": false,
     "start_time": "2022-07-06T04:32:34.309141",
     "status": "completed"
    },
    "tags": []
   },
   "outputs": [],
   "source": [
    "def text_clean(text):\n",
    "    ''' Pre process and convert texts to a list of words '''\n",
    "    text = str(text)\n",
    "    text = text.lower()\n",
    "\n",
    "    # Clean the text\n",
    "    text = re.sub(r\"[^A-Za-z0-9^,!.\\/'+-=]\", \" \", text)\n",
    "    text = re.sub(r\"what's\", \"what is \", text)\n",
    "    text = re.sub(r\"\\'s\", \" \", text)\n",
    "    text = re.sub(r\"\\'ve\", \" have \", text)\n",
    "    text = re.sub(r\"can't\", \"cannot \", text)\n",
    "    text = re.sub(r\"n't\", \" not \", text)\n",
    "    text = re.sub(r\"i'm\", \"i am \", text)\n",
    "    text = re.sub(r\"\\'re\", \" are \", text)\n",
    "    text = re.sub(r\"\\'d\", \" would \", text)\n",
    "    text = re.sub(r\"\\'ll\", \" will \", text)\n",
    "    text = re.sub(r\",\", \" \", text)\n",
    "    text = re.sub(r\"\\.\", \" \", text)\n",
    "    text = re.sub(r\"!\", \" ! \", text)\n",
    "    text = re.sub(r\"\\/\", \" \", text)\n",
    "    text = re.sub(r\"\\^\", \" ^ \", text)\n",
    "    text = re.sub(r\"\\+\", \" + \", text)\n",
    "    text = re.sub(r\"\\-\", \" - \", text)\n",
    "    text = re.sub(r\"\\=\", \" = \", text)\n",
    "    text = re.sub(r\"'\", \" \", text)\n",
    "    text = re.sub(r\"(\\d+)(k)\", r\"\\g<1>000\", text)\n",
    "    text = re.sub(r\":\", \" : \", text)\n",
    "    text = re.sub(r\" e g \", \" eg \", text)\n",
    "    text = re.sub(r\" b g \", \" bg \", text)\n",
    "    text = re.sub(r\" u s \", \" american \", text)\n",
    "    text = re.sub(r\"\\0s\", \"0\", text)\n",
    "    text = re.sub(r\" 9 11 \", \"911\", text)\n",
    "    text = re.sub(r\"e - mail\", \"email\", text)\n",
    "    text = re.sub(r\"j k\", \"jk\", text)\n",
    "    text = re.sub(r\"\\s{2,}\", \" \", text)\n",
    "\n",
    "   \n",
    "\n",
    "    return text"
   ]
  },
  {
   "cell_type": "code",
   "execution_count": 14,
   "id": "06edf7c1",
   "metadata": {
    "execution": {
     "iopub.execute_input": "2022-07-06T04:32:34.359726Z",
     "iopub.status.busy": "2022-07-06T04:32:34.359447Z",
     "iopub.status.idle": "2022-07-06T04:33:10.235525Z",
     "shell.execute_reply": "2022-07-06T04:33:10.234482Z"
    },
    "papermill": {
     "duration": 35.891226,
     "end_time": "2022-07-06T04:33:10.238465",
     "exception": false,
     "start_time": "2022-07-06T04:32:34.347239",
     "status": "completed"
    },
    "tags": []
   },
   "outputs": [],
   "source": [
    "train_df['cleaned_question1']=train_df['question1'].apply(lambda x:text_clean(x))\n",
    "train_df['cleaned_question2']=train_df['question2'].apply(lambda x:text_clean(x))"
   ]
  },
  {
   "cell_type": "code",
   "execution_count": 15,
   "id": "a633c202",
   "metadata": {
    "execution": {
     "iopub.execute_input": "2022-07-06T04:33:10.264231Z",
     "iopub.status.busy": "2022-07-06T04:33:10.263856Z",
     "iopub.status.idle": "2022-07-06T04:33:11.259886Z",
     "shell.execute_reply": "2022-07-06T04:33:11.258935Z"
    },
    "papermill": {
     "duration": 1.011644,
     "end_time": "2022-07-06T04:33:11.262487",
     "exception": false,
     "start_time": "2022-07-06T04:33:10.250843",
     "status": "completed"
    },
    "tags": []
   },
   "outputs": [],
   "source": [
    "len(train_df)\n",
    "train_df['len_q1']=train_df['cleaned_question1'].apply(lambda x:len(x.split()))  # split by white space and count number of words in question1 per each row\n",
    "train_df['len_q2']=train_df['cleaned_question2'].apply(lambda x:len(x.split()))  # split by white space and count number of words in question2 per each row"
   ]
  },
  {
   "cell_type": "code",
   "execution_count": 16,
   "id": "e1ce8c63",
   "metadata": {
    "execution": {
     "iopub.execute_input": "2022-07-06T04:33:11.287456Z",
     "iopub.status.busy": "2022-07-06T04:33:11.286938Z",
     "iopub.status.idle": "2022-07-06T04:33:11.311437Z",
     "shell.execute_reply": "2022-07-06T04:33:11.310102Z"
    },
    "papermill": {
     "duration": 0.039601,
     "end_time": "2022-07-06T04:33:11.313954",
     "exception": false,
     "start_time": "2022-07-06T04:33:11.274353",
     "status": "completed"
    },
    "tags": []
   },
   "outputs": [
    {
     "data": {
      "text/html": [
       "<div>\n",
       "<style scoped>\n",
       "    .dataframe tbody tr th:only-of-type {\n",
       "        vertical-align: middle;\n",
       "    }\n",
       "\n",
       "    .dataframe tbody tr th {\n",
       "        vertical-align: top;\n",
       "    }\n",
       "\n",
       "    .dataframe thead th {\n",
       "        text-align: right;\n",
       "    }\n",
       "</style>\n",
       "<table border=\"1\" class=\"dataframe\">\n",
       "  <thead>\n",
       "    <tr style=\"text-align: right;\">\n",
       "      <th></th>\n",
       "      <th>id</th>\n",
       "      <th>qid1</th>\n",
       "      <th>qid2</th>\n",
       "      <th>question1</th>\n",
       "      <th>question2</th>\n",
       "      <th>is_duplicate</th>\n",
       "      <th>common_words</th>\n",
       "      <th>shared_words</th>\n",
       "      <th>cleaned_question1</th>\n",
       "      <th>cleaned_question2</th>\n",
       "      <th>len_q1</th>\n",
       "      <th>len_q2</th>\n",
       "    </tr>\n",
       "  </thead>\n",
       "  <tbody>\n",
       "    <tr>\n",
       "      <th>0</th>\n",
       "      <td>0</td>\n",
       "      <td>1</td>\n",
       "      <td>2</td>\n",
       "      <td>What is the step by step guide to invest in sh...</td>\n",
       "      <td>What is the step by step guide to invest in sh...</td>\n",
       "      <td>0</td>\n",
       "      <td>10.0</td>\n",
       "      <td>0.434783</td>\n",
       "      <td>what is the step by step guide to invest in sh...</td>\n",
       "      <td>what is the step by step guide to invest in sh...</td>\n",
       "      <td>14</td>\n",
       "      <td>12</td>\n",
       "    </tr>\n",
       "    <tr>\n",
       "      <th>1</th>\n",
       "      <td>1</td>\n",
       "      <td>3</td>\n",
       "      <td>4</td>\n",
       "      <td>What is the story of Kohinoor (Koh-i-Noor) Dia...</td>\n",
       "      <td>What would happen if the Indian government sto...</td>\n",
       "      <td>0</td>\n",
       "      <td>4.0</td>\n",
       "      <td>0.200000</td>\n",
       "      <td>what is the story of kohinoor koh - i - noor d...</td>\n",
       "      <td>what would happen if the indian government sto...</td>\n",
       "      <td>12</td>\n",
       "      <td>17</td>\n",
       "    </tr>\n",
       "    <tr>\n",
       "      <th>2</th>\n",
       "      <td>2</td>\n",
       "      <td>5</td>\n",
       "      <td>6</td>\n",
       "      <td>How can I increase the speed of my internet co...</td>\n",
       "      <td>How can Internet speed be increased by hacking...</td>\n",
       "      <td>0</td>\n",
       "      <td>4.0</td>\n",
       "      <td>0.166667</td>\n",
       "      <td>how can i increase the speed of my internet co...</td>\n",
       "      <td>how can internet speed be increased by hacking...</td>\n",
       "      <td>14</td>\n",
       "      <td>10</td>\n",
       "    </tr>\n",
       "    <tr>\n",
       "      <th>3</th>\n",
       "      <td>3</td>\n",
       "      <td>7</td>\n",
       "      <td>8</td>\n",
       "      <td>Why am I mentally very lonely? How can I solve...</td>\n",
       "      <td>Find the remainder when [math]23^{24}[/math] i...</td>\n",
       "      <td>0</td>\n",
       "      <td>0.0</td>\n",
       "      <td>0.000000</td>\n",
       "      <td>why am i mentally very lonely how can i solve it</td>\n",
       "      <td>find the remainder when math 23 ^ 24 math is d...</td>\n",
       "      <td>11</td>\n",
       "      <td>14</td>\n",
       "    </tr>\n",
       "    <tr>\n",
       "      <th>4</th>\n",
       "      <td>4</td>\n",
       "      <td>9</td>\n",
       "      <td>10</td>\n",
       "      <td>Which one dissolve in water quikly sugar, salt...</td>\n",
       "      <td>Which fish would survive in salt water?</td>\n",
       "      <td>0</td>\n",
       "      <td>2.0</td>\n",
       "      <td>0.100000</td>\n",
       "      <td>which one dissolve in water quikly sugar salt ...</td>\n",
       "      <td>which fish would survive in salt water</td>\n",
       "      <td>13</td>\n",
       "      <td>7</td>\n",
       "    </tr>\n",
       "    <tr>\n",
       "      <th>...</th>\n",
       "      <td>...</td>\n",
       "      <td>...</td>\n",
       "      <td>...</td>\n",
       "      <td>...</td>\n",
       "      <td>...</td>\n",
       "      <td>...</td>\n",
       "      <td>...</td>\n",
       "      <td>...</td>\n",
       "      <td>...</td>\n",
       "      <td>...</td>\n",
       "      <td>...</td>\n",
       "      <td>...</td>\n",
       "    </tr>\n",
       "    <tr>\n",
       "      <th>404285</th>\n",
       "      <td>404285</td>\n",
       "      <td>433578</td>\n",
       "      <td>379845</td>\n",
       "      <td>How many keywords are there in the Racket prog...</td>\n",
       "      <td>How many keywords are there in PERL Programmin...</td>\n",
       "      <td>0</td>\n",
       "      <td>11.0</td>\n",
       "      <td>0.440000</td>\n",
       "      <td>how many keywords are there in the racket prog...</td>\n",
       "      <td>how many keywords are there in perl programmin...</td>\n",
       "      <td>14</td>\n",
       "      <td>13</td>\n",
       "    </tr>\n",
       "    <tr>\n",
       "      <th>404286</th>\n",
       "      <td>404286</td>\n",
       "      <td>18840</td>\n",
       "      <td>155606</td>\n",
       "      <td>Do you believe there is life after death?</td>\n",
       "      <td>Is it true that there is life after death?</td>\n",
       "      <td>1</td>\n",
       "      <td>5.0</td>\n",
       "      <td>0.312500</td>\n",
       "      <td>do you believe there is life after death</td>\n",
       "      <td>is it true that there is life after death</td>\n",
       "      <td>8</td>\n",
       "      <td>9</td>\n",
       "    </tr>\n",
       "    <tr>\n",
       "      <th>404287</th>\n",
       "      <td>404287</td>\n",
       "      <td>537928</td>\n",
       "      <td>537929</td>\n",
       "      <td>What is one coin?</td>\n",
       "      <td>What's this coin?</td>\n",
       "      <td>0</td>\n",
       "      <td>1.0</td>\n",
       "      <td>0.142857</td>\n",
       "      <td>what is one coin</td>\n",
       "      <td>what is this coin</td>\n",
       "      <td>4</td>\n",
       "      <td>4</td>\n",
       "    </tr>\n",
       "    <tr>\n",
       "      <th>404288</th>\n",
       "      <td>404288</td>\n",
       "      <td>537930</td>\n",
       "      <td>537931</td>\n",
       "      <td>What is the approx annual cost of living while...</td>\n",
       "      <td>I am having little hairfall problem but I want...</td>\n",
       "      <td>0</td>\n",
       "      <td>1.0</td>\n",
       "      <td>0.025000</td>\n",
       "      <td>what is the approx annual cost of living while...</td>\n",
       "      <td>i am having little hairfall problem but i want...</td>\n",
       "      <td>17</td>\n",
       "      <td>25</td>\n",
       "    </tr>\n",
       "    <tr>\n",
       "      <th>404289</th>\n",
       "      <td>404289</td>\n",
       "      <td>537932</td>\n",
       "      <td>537933</td>\n",
       "      <td>What is like to have sex with cousin?</td>\n",
       "      <td>What is it like to have sex with your cousin?</td>\n",
       "      <td>0</td>\n",
       "      <td>8.0</td>\n",
       "      <td>0.444444</td>\n",
       "      <td>what is like to have sex with cousin</td>\n",
       "      <td>what is it like to have sex with your cousin</td>\n",
       "      <td>8</td>\n",
       "      <td>10</td>\n",
       "    </tr>\n",
       "  </tbody>\n",
       "</table>\n",
       "<p>404287 rows × 12 columns</p>\n",
       "</div>"
      ],
      "text/plain": [
       "            id    qid1    qid2  \\\n",
       "0            0       1       2   \n",
       "1            1       3       4   \n",
       "2            2       5       6   \n",
       "3            3       7       8   \n",
       "4            4       9      10   \n",
       "...        ...     ...     ...   \n",
       "404285  404285  433578  379845   \n",
       "404286  404286   18840  155606   \n",
       "404287  404287  537928  537929   \n",
       "404288  404288  537930  537931   \n",
       "404289  404289  537932  537933   \n",
       "\n",
       "                                                question1  \\\n",
       "0       What is the step by step guide to invest in sh...   \n",
       "1       What is the story of Kohinoor (Koh-i-Noor) Dia...   \n",
       "2       How can I increase the speed of my internet co...   \n",
       "3       Why am I mentally very lonely? How can I solve...   \n",
       "4       Which one dissolve in water quikly sugar, salt...   \n",
       "...                                                   ...   \n",
       "404285  How many keywords are there in the Racket prog...   \n",
       "404286          Do you believe there is life after death?   \n",
       "404287                                  What is one coin?   \n",
       "404288  What is the approx annual cost of living while...   \n",
       "404289              What is like to have sex with cousin?   \n",
       "\n",
       "                                                question2  is_duplicate  \\\n",
       "0       What is the step by step guide to invest in sh...             0   \n",
       "1       What would happen if the Indian government sto...             0   \n",
       "2       How can Internet speed be increased by hacking...             0   \n",
       "3       Find the remainder when [math]23^{24}[/math] i...             0   \n",
       "4                 Which fish would survive in salt water?             0   \n",
       "...                                                   ...           ...   \n",
       "404285  How many keywords are there in PERL Programmin...             0   \n",
       "404286         Is it true that there is life after death?             1   \n",
       "404287                                  What's this coin?             0   \n",
       "404288  I am having little hairfall problem but I want...             0   \n",
       "404289      What is it like to have sex with your cousin?             0   \n",
       "\n",
       "        common_words  shared_words  \\\n",
       "0               10.0      0.434783   \n",
       "1                4.0      0.200000   \n",
       "2                4.0      0.166667   \n",
       "3                0.0      0.000000   \n",
       "4                2.0      0.100000   \n",
       "...              ...           ...   \n",
       "404285          11.0      0.440000   \n",
       "404286           5.0      0.312500   \n",
       "404287           1.0      0.142857   \n",
       "404288           1.0      0.025000   \n",
       "404289           8.0      0.444444   \n",
       "\n",
       "                                        cleaned_question1  \\\n",
       "0       what is the step by step guide to invest in sh...   \n",
       "1       what is the story of kohinoor koh - i - noor d...   \n",
       "2       how can i increase the speed of my internet co...   \n",
       "3       why am i mentally very lonely how can i solve it    \n",
       "4       which one dissolve in water quikly sugar salt ...   \n",
       "...                                                   ...   \n",
       "404285  how many keywords are there in the racket prog...   \n",
       "404286          do you believe there is life after death    \n",
       "404287                                  what is one coin    \n",
       "404288  what is the approx annual cost of living while...   \n",
       "404289              what is like to have sex with cousin    \n",
       "\n",
       "                                        cleaned_question2  len_q1  len_q2  \n",
       "0       what is the step by step guide to invest in sh...      14      12  \n",
       "1       what would happen if the indian government sto...      12      17  \n",
       "2       how can internet speed be increased by hacking...      14      10  \n",
       "3       find the remainder when math 23 ^ 24 math is d...      11      14  \n",
       "4                 which fish would survive in salt water       13       7  \n",
       "...                                                   ...     ...     ...  \n",
       "404285  how many keywords are there in perl programmin...      14      13  \n",
       "404286         is it true that there is life after death        8       9  \n",
       "404287                                 what is this coin        4       4  \n",
       "404288  i am having little hairfall problem but i want...      17      25  \n",
       "404289      what is it like to have sex with your cousin        8      10  \n",
       "\n",
       "[404287 rows x 12 columns]"
      ]
     },
     "execution_count": 16,
     "metadata": {},
     "output_type": "execute_result"
    }
   ],
   "source": [
    "train_df"
   ]
  },
  {
   "cell_type": "markdown",
   "id": "24626b5c",
   "metadata": {
    "papermill": {
     "duration": 0.011929,
     "end_time": "2022-07-06T04:33:11.338207",
     "exception": false,
     "start_time": "2022-07-06T04:33:11.326278",
     "status": "completed"
    },
    "tags": []
   },
   "source": [
    "# Define a Bert model and read data into the model"
   ]
  },
  {
   "cell_type": "code",
   "execution_count": 17,
   "id": "6a7f4828",
   "metadata": {
    "execution": {
     "iopub.execute_input": "2022-07-06T04:33:11.364764Z",
     "iopub.status.busy": "2022-07-06T04:33:11.364013Z",
     "iopub.status.idle": "2022-07-06T04:33:15.468348Z",
     "shell.execute_reply": "2022-07-06T04:33:15.467335Z"
    },
    "papermill": {
     "duration": 4.11998,
     "end_time": "2022-07-06T04:33:15.470709",
     "exception": false,
     "start_time": "2022-07-06T04:33:11.350729",
     "status": "completed"
    },
    "tags": []
   },
   "outputs": [
    {
     "data": {
      "application/vnd.jupyter.widget-view+json": {
       "model_id": "17d4603408c94ec9b838778b394735ab",
       "version_major": 2,
       "version_minor": 0
      },
      "text/plain": [
       "Downloading:   0%|          | 0.00/226k [00:00<?, ?B/s]"
      ]
     },
     "metadata": {},
     "output_type": "display_data"
    },
    {
     "data": {
      "application/vnd.jupyter.widget-view+json": {
       "model_id": "a33ea150c8a645e894ee4ad6981dce30",
       "version_major": 2,
       "version_minor": 0
      },
      "text/plain": [
       "Downloading:   0%|          | 0.00/28.0 [00:00<?, ?B/s]"
      ]
     },
     "metadata": {},
     "output_type": "display_data"
    },
    {
     "data": {
      "application/vnd.jupyter.widget-view+json": {
       "model_id": "91c4a4374cf2472084bed1e19916cdce",
       "version_major": 2,
       "version_minor": 0
      },
      "text/plain": [
       "Downloading:   0%|          | 0.00/570 [00:00<?, ?B/s]"
      ]
     },
     "metadata": {},
     "output_type": "display_data"
    }
   ],
   "source": [
    "\n",
    "BERT_VERSION = 'bert-base-uncased'\n",
    "POOLED_OUTPUT_DIM = 768 \n",
    "tokenizer = BertTokenizer.from_pretrained(BERT_VERSION)"
   ]
  },
  {
   "cell_type": "code",
   "execution_count": 18,
   "id": "98582a7b",
   "metadata": {
    "execution": {
     "iopub.execute_input": "2022-07-06T04:33:15.499060Z",
     "iopub.status.busy": "2022-07-06T04:33:15.498692Z",
     "iopub.status.idle": "2022-07-06T04:33:15.903204Z",
     "shell.execute_reply": "2022-07-06T04:33:15.902224Z"
    },
    "papermill": {
     "duration": 0.421843,
     "end_time": "2022-07-06T04:33:15.905732",
     "exception": false,
     "start_time": "2022-07-06T04:33:15.483889",
     "status": "completed"
    },
    "tags": []
   },
   "outputs": [],
   "source": [
    "\n",
    "train_df, val_df = train_test_split(train_df, test_size=0.1)\n",
    "train_df = train_df.reset_index(drop=True)\n",
    "val_df = val_df.reset_index(drop=True)"
   ]
  },
  {
   "cell_type": "code",
   "execution_count": 19,
   "id": "5a7683f9",
   "metadata": {
    "execution": {
     "iopub.execute_input": "2022-07-06T04:33:15.933442Z",
     "iopub.status.busy": "2022-07-06T04:33:15.931892Z",
     "iopub.status.idle": "2022-07-06T04:33:15.942560Z",
     "shell.execute_reply": "2022-07-06T04:33:15.941726Z"
    },
    "papermill": {
     "duration": 0.025866,
     "end_time": "2022-07-06T04:33:15.944475",
     "exception": false,
     "start_time": "2022-07-06T04:33:15.918609",
     "status": "completed"
    },
    "tags": []
   },
   "outputs": [],
   "source": [
    "\n",
    "class BertDataSet:\n",
    "    def __init__(self, first_questions, second_questions, targets, tokenizer):\n",
    "        self.first_questions = first_questions\n",
    "        self.second_questions = second_questions\n",
    "        self.targets = targets\n",
    "        self.tokenizer = tokenizer\n",
    "        self.length = len(first_questions)\n",
    "        \n",
    "    def __len__(self):\n",
    "        return self.length\n",
    "\n",
    "    def __getitem__(self, item):\n",
    "        first_question = str(self.first_questions[item])\n",
    "        second_question = str(self.second_questions[item])\n",
    "\n",
    "        \n",
    "        first_question = \" \".join(first_question.split())\n",
    "        second_question = \" \".join(second_question.split())\n",
    "        \n",
    "      \n",
    "        inputs = self.tokenizer.encode_plus(\n",
    "            first_question,\n",
    "            second_question,\n",
    "            add_special_tokens=True,\n",
    "            padding='max_length',\n",
    "            max_length=2 * MAX_LEN + 3, # max length of 2 questions and 3 special tokens\n",
    "            truncation=True   \n",
    "        )\n",
    "   \n",
    "        return {\n",
    "            \"ids\": torch.tensor(inputs[\"input_ids\"], dtype=torch.long),\n",
    "            \"mask\": torch.tensor(inputs[\"attention_mask\"], dtype=torch.long),\n",
    "            \"token_type_ids\": torch.tensor(inputs[\"token_type_ids\"], dtype=torch.long),\n",
    "            \"targets\": torch.tensor(int(self.targets[item]), dtype=torch.long) if self.targets is not None else 0\n",
    "        }"
   ]
  },
  {
   "cell_type": "code",
   "execution_count": 20,
   "id": "c7cee377",
   "metadata": {
    "execution": {
     "iopub.execute_input": "2022-07-06T04:33:15.973249Z",
     "iopub.status.busy": "2022-07-06T04:33:15.971564Z",
     "iopub.status.idle": "2022-07-06T04:33:15.978236Z",
     "shell.execute_reply": "2022-07-06T04:33:15.977260Z"
    },
    "papermill": {
     "duration": 0.022528,
     "end_time": "2022-07-06T04:33:15.980257",
     "exception": false,
     "start_time": "2022-07-06T04:33:15.957729",
     "status": "completed"
    },
    "tags": []
   },
   "outputs": [],
   "source": [
    "\n",
    "def get_data_loader(df, targets, batch_size, shuffle, tokenizer):\n",
    "    dataset = BertDataSet(\n",
    "        first_questions=df[\"cleaned_question1\"].values,\n",
    "        second_questions=df[\"cleaned_question2\"].values,\n",
    "        targets=targets,\n",
    "        tokenizer=tokenizer\n",
    "    )\n",
    "    \n",
    "    data_loader = torch.utils.data.DataLoader(\n",
    "        dataset,\n",
    "        batch_size = batch_size,\n",
    "        shuffle=shuffle\n",
    "    )\n",
    "    \n",
    "    return data_loader"
   ]
  },
  {
   "cell_type": "code",
   "execution_count": 21,
   "id": "08091008",
   "metadata": {
    "execution": {
     "iopub.execute_input": "2022-07-06T04:33:16.008208Z",
     "iopub.status.busy": "2022-07-06T04:33:16.006643Z",
     "iopub.status.idle": "2022-07-06T04:33:16.011512Z",
     "shell.execute_reply": "2022-07-06T04:33:16.010639Z"
    },
    "papermill": {
     "duration": 0.02064,
     "end_time": "2022-07-06T04:33:16.013455",
     "exception": false,
     "start_time": "2022-07-06T04:33:15.992815",
     "status": "completed"
    },
    "tags": []
   },
   "outputs": [],
   "source": [
    "BS = 128"
   ]
  },
  {
   "cell_type": "code",
   "execution_count": 22,
   "id": "e40ee300",
   "metadata": {
    "execution": {
     "iopub.execute_input": "2022-07-06T04:33:16.040434Z",
     "iopub.status.busy": "2022-07-06T04:33:16.039054Z",
     "iopub.status.idle": "2022-07-06T04:33:16.045743Z",
     "shell.execute_reply": "2022-07-06T04:33:16.044901Z"
    },
    "papermill": {
     "duration": 0.021847,
     "end_time": "2022-07-06T04:33:16.047723",
     "exception": false,
     "start_time": "2022-07-06T04:33:16.025876",
     "status": "completed"
    },
    "tags": []
   },
   "outputs": [],
   "source": [
    "\n",
    "train_data_loader = get_data_loader(\n",
    "    df=train_df,\n",
    "    targets=train_df[\"is_duplicate\"].values,\n",
    "    batch_size=BS,\n",
    "    shuffle=True,\n",
    "    tokenizer=tokenizer\n",
    ")\n",
    "\n",
    "val_data_loader = get_data_loader(\n",
    "    df=val_df,\n",
    "    targets=val_df[\"is_duplicate\"].values,\n",
    "    batch_size=4 * BS,\n",
    "    shuffle=True,\n",
    "    tokenizer=tokenizer\n",
    ")"
   ]
  },
  {
   "cell_type": "code",
   "execution_count": 23,
   "id": "06bb9831",
   "metadata": {
    "execution": {
     "iopub.execute_input": "2022-07-06T04:33:16.076260Z",
     "iopub.status.busy": "2022-07-06T04:33:16.075680Z",
     "iopub.status.idle": "2022-07-06T04:33:33.170270Z",
     "shell.execute_reply": "2022-07-06T04:33:33.169276Z"
    },
    "papermill": {
     "duration": 17.111666,
     "end_time": "2022-07-06T04:33:33.172573",
     "exception": false,
     "start_time": "2022-07-06T04:33:16.060907",
     "status": "completed"
    },
    "tags": []
   },
   "outputs": [
    {
     "data": {
      "application/vnd.jupyter.widget-view+json": {
       "model_id": "0f9497ed3af14d0ba9b8bcd5d39c7b59",
       "version_major": 2,
       "version_minor": 0
      },
      "text/plain": [
       "Downloading:   0%|          | 0.00/420M [00:00<?, ?B/s]"
      ]
     },
     "metadata": {},
     "output_type": "display_data"
    }
   ],
   "source": [
    "\n",
    "class BertModel(nn.Module):\n",
    "    def __init__(self, bert_path):\n",
    "        super(BertModel, self).__init__()\n",
    "        self.bert_path = bert_path\n",
    "        self.bert = transformers.BertModel.from_pretrained(self.bert_path)\n",
    "        self.dropout = nn.Dropout(0.3)\n",
    "        self.out = nn.Linear(POOLED_OUTPUT_DIM, 1)\n",
    "\n",
    "    def forward(self, ids, mask, token_type_ids):\n",
    "        _, pooled = self.bert(ids, attention_mask=mask,token_type_ids=token_type_ids,return_dict=False)\n",
    "        \n",
    "        # add dropout to prevent overfitting.\n",
    "        pooled = self.dropout(pooled) \n",
    "        return self.out(pooled)\n",
    "\n",
    "\n",
    "model = BertModel(BERT_VERSION).to(device)"
   ]
  },
  {
   "cell_type": "code",
   "execution_count": 24,
   "id": "5303841f",
   "metadata": {
    "execution": {
     "iopub.execute_input": "2022-07-06T04:33:33.199965Z",
     "iopub.status.busy": "2022-07-06T04:33:33.199277Z",
     "iopub.status.idle": "2022-07-06T04:33:33.204739Z",
     "shell.execute_reply": "2022-07-06T04:33:33.203850Z"
    },
    "papermill": {
     "duration": 0.021065,
     "end_time": "2022-07-06T04:33:33.206687",
     "exception": false,
     "start_time": "2022-07-06T04:33:33.185622",
     "status": "completed"
    },
    "tags": []
   },
   "outputs": [],
   "source": [
    "\n",
    "def loss_fn(outputs, targets):\n",
    "    outputs = torch.squeeze(outputs)\n",
    "    return nn.BCELoss()(nn.Sigmoid()(outputs), targets)"
   ]
  },
  {
   "cell_type": "code",
   "execution_count": 25,
   "id": "71eea00c",
   "metadata": {
    "execution": {
     "iopub.execute_input": "2022-07-06T04:33:33.233822Z",
     "iopub.status.busy": "2022-07-06T04:33:33.232927Z",
     "iopub.status.idle": "2022-07-06T04:33:33.240982Z",
     "shell.execute_reply": "2022-07-06T04:33:33.240083Z"
    },
    "papermill": {
     "duration": 0.02389,
     "end_time": "2022-07-06T04:33:33.243018",
     "exception": false,
     "start_time": "2022-07-06T04:33:33.219128",
     "status": "completed"
    },
    "tags": []
   },
   "outputs": [],
   "source": [
    "\n",
    "def calculate_perplexity(data_loader, model, device):\n",
    "    model.eval()\n",
    "\n",
    "    with torch.no_grad():\n",
    "        total_loss = 0\n",
    "        for batch in data_loader:\n",
    "            ids = batch[\"ids\"].to(device, dtype=torch.long)\n",
    "            mask = batch[\"mask\"].to(device, dtype=torch.long)\n",
    "            token_type_ids = batch[\"token_type_ids\"].to(device, dtype=torch.long)\n",
    "            targets = batch[\"targets\"].to(device, dtype=torch.float)\n",
    "\n",
    "            outputs = model(ids=ids, mask=mask, token_type_ids=token_type_ids)\n",
    "            total_loss += loss_fn(outputs, targets).item()\n",
    "            \n",
    "    model.train()\n",
    "\n",
    "    return np.exp(total_loss / len(data_loader))"
   ]
  },
  {
   "cell_type": "markdown",
   "id": "37e88b5e",
   "metadata": {
    "papermill": {
     "duration": 0.012362,
     "end_time": "2022-07-06T04:33:33.267876",
     "exception": false,
     "start_time": "2022-07-06T04:33:33.255514",
     "status": "completed"
    },
    "tags": []
   },
   "source": [
    "# Define Training"
   ]
  },
  {
   "cell_type": "code",
   "execution_count": 26,
   "id": "eea1d9fd",
   "metadata": {
    "execution": {
     "iopub.execute_input": "2022-07-06T04:33:33.294625Z",
     "iopub.status.busy": "2022-07-06T04:33:33.294293Z",
     "iopub.status.idle": "2022-07-06T04:33:33.305876Z",
     "shell.execute_reply": "2022-07-06T04:33:33.304999Z"
    },
    "papermill": {
     "duration": 0.027186,
     "end_time": "2022-07-06T04:33:33.307828",
     "exception": false,
     "start_time": "2022-07-06T04:33:33.280642",
     "status": "completed"
    },
    "tags": []
   },
   "outputs": [],
   "source": [
    "\n",
    "def train_loop(epochs, train_data_loader, val_data_loader, model, optimizer, device, scheduler=None):\n",
    "    it = 1\n",
    "    total_loss = 0\n",
    "    curr_perplexity = None\n",
    "    perplexity = None\n",
    "    \n",
    "    model.train()\n",
    "    for epoch in range(epochs):\n",
    "        print('Epoch: ', epoch + 1)\n",
    "        for batch in train_data_loader:\n",
    "            ids = batch[\"ids\"].to(device, dtype=torch.long)\n",
    "            mask = batch[\"mask\"].to(device, dtype=torch.long)\n",
    "            token_type_ids = batch[\"token_type_ids\"].to(device, dtype=torch.long)\n",
    "            targets = batch[\"targets\"].to(device, dtype=torch.float)\n",
    "\n",
    "            optimizer.zero_grad()\n",
    "            \n",
    "           \n",
    "            outputs = model(ids, mask=mask, token_type_ids=token_type_ids)\n",
    "            \n",
    "            loss = loss_fn(outputs, targets)\n",
    "            total_loss += loss.item()\n",
    "            \n",
    "           \n",
    "            loss.backward()\n",
    "            \n",
    "            optimizer.step()\n",
    "\n",
    "            if it % 100 == 0:\n",
    "                \n",
    "                \n",
    "                if it % 500 == 0:\n",
    "                    curr_perplexity = calculate_perplexity(val_data_loader, model, device)\n",
    "                    \n",
    "                    if scheduler is not None:\n",
    "                        scheduler.step()\n",
    "\n",
    "                    \n",
    "                    if not perplexity or curr_perplexity < perplexity:\n",
    "                        torch.save(model.state_dict(), 'saved_model')\n",
    "                        perplexity = curr_perplexity\n",
    "\n",
    "                print('| Iter', it, '| Avg Train Loss', total_loss / 100, '| Dev Perplexity', curr_perplexity)\n",
    "                total_loss = 0\n",
    "\n",
    "            it += 1"
   ]
  },
  {
   "cell_type": "code",
   "execution_count": 27,
   "id": "c1987299",
   "metadata": {
    "execution": {
     "iopub.execute_input": "2022-07-06T04:33:33.335307Z",
     "iopub.status.busy": "2022-07-06T04:33:33.334948Z",
     "iopub.status.idle": "2022-07-06T04:33:33.340921Z",
     "shell.execute_reply": "2022-07-06T04:33:33.340014Z"
    },
    "papermill": {
     "duration": 0.021608,
     "end_time": "2022-07-06T04:33:33.342921",
     "exception": false,
     "start_time": "2022-07-06T04:33:33.321313",
     "status": "completed"
    },
    "tags": []
   },
   "outputs": [],
   "source": [
    "\n",
    "def run(model, train_df, device, train_data_loader, val_data_loader):\n",
    "    EPOCHS = 1\n",
    "    \n",
    "    lr = 3e-5\n",
    "    num_training_steps = int(len(train_data_loader) * EPOCHS)\n",
    "    optimizer = AdamW(model.parameters(), lr=lr)\n",
    "    scheduler = get_linear_schedule_with_warmup(\n",
    "        optimizer,\n",
    "        num_warmup_steps=0,\n",
    "        num_training_steps=num_training_steps\n",
    "    )\n",
    "    \n",
    "    \n",
    "    train_loop(EPOCHS, train_data_loader, val_data_loader,  model, optimizer, device, scheduler)"
   ]
  },
  {
   "cell_type": "markdown",
   "id": "1585053e",
   "metadata": {
    "papermill": {
     "duration": 0.012283,
     "end_time": "2022-07-06T04:33:33.367685",
     "exception": false,
     "start_time": "2022-07-06T04:33:33.355402",
     "status": "completed"
    },
    "tags": []
   },
   "source": [
    "# Train"
   ]
  },
  {
   "cell_type": "code",
   "execution_count": 28,
   "id": "7e7e82fd",
   "metadata": {
    "execution": {
     "iopub.execute_input": "2022-07-06T04:33:33.394970Z",
     "iopub.status.busy": "2022-07-06T04:33:33.393940Z",
     "iopub.status.idle": "2022-07-06T05:31:13.162526Z",
     "shell.execute_reply": "2022-07-06T05:31:13.161433Z"
    },
    "papermill": {
     "duration": 3459.784533,
     "end_time": "2022-07-06T05:31:13.164947",
     "exception": false,
     "start_time": "2022-07-06T04:33:33.380414",
     "status": "completed"
    },
    "tags": []
   },
   "outputs": [
    {
     "name": "stderr",
     "output_type": "stream",
     "text": [
      "/opt/conda/lib/python3.7/site-packages/transformers/optimization.py:309: FutureWarning: This implementation of AdamW is deprecated and will be removed in a future version. Use the PyTorch implementation torch.optim.AdamW instead, or set `no_deprecation_warning=True` to disable this warning\n",
      "  FutureWarning,\n"
     ]
    },
    {
     "name": "stdout",
     "output_type": "stream",
     "text": [
      "Epoch:  1\n",
      "| Iter 100 | Avg Train Loss 0.535521368086338 | Dev Perplexity None\n",
      "| Iter 200 | Avg Train Loss 0.426055015027523 | Dev Perplexity None\n",
      "| Iter 300 | Avg Train Loss 0.3935124123096466 | Dev Perplexity None\n",
      "| Iter 400 | Avg Train Loss 0.37960140734910963 | Dev Perplexity None\n",
      "| Iter 500 | Avg Train Loss 0.36333058029413223 | Dev Perplexity 1.4042060455254322\n",
      "| Iter 600 | Avg Train Loss 0.3437917558848858 | Dev Perplexity 1.4042060455254322\n",
      "| Iter 700 | Avg Train Loss 0.33621817335486415 | Dev Perplexity 1.4042060455254322\n",
      "| Iter 800 | Avg Train Loss 0.3337496042251587 | Dev Perplexity 1.4042060455254322\n",
      "| Iter 900 | Avg Train Loss 0.3365987938642502 | Dev Perplexity 1.4042060455254322\n",
      "| Iter 1000 | Avg Train Loss 0.3175288301706314 | Dev Perplexity 1.360202504920457\n",
      "| Iter 1100 | Avg Train Loss 0.3113568606972694 | Dev Perplexity 1.360202504920457\n",
      "| Iter 1200 | Avg Train Loss 0.3122666026651859 | Dev Perplexity 1.360202504920457\n",
      "| Iter 1300 | Avg Train Loss 0.3037323497235775 | Dev Perplexity 1.360202504920457\n",
      "| Iter 1400 | Avg Train Loss 0.3077773965895176 | Dev Perplexity 1.360202504920457\n",
      "| Iter 1500 | Avg Train Loss 0.2917722861468792 | Dev Perplexity 1.3269547542206475\n",
      "| Iter 1600 | Avg Train Loss 0.2882293027639389 | Dev Perplexity 1.3269547542206475\n",
      "| Iter 1700 | Avg Train Loss 0.29130140781402586 | Dev Perplexity 1.3269547542206475\n",
      "| Iter 1800 | Avg Train Loss 0.2995306731760502 | Dev Perplexity 1.3269547542206475\n",
      "| Iter 1900 | Avg Train Loss 0.2868375876545906 | Dev Perplexity 1.3269547542206475\n",
      "| Iter 2000 | Avg Train Loss 0.2848889808356762 | Dev Perplexity 1.3194157291465405\n",
      "| Iter 2100 | Avg Train Loss 0.28663686603307725 | Dev Perplexity 1.3194157291465405\n",
      "| Iter 2200 | Avg Train Loss 0.2753320598602295 | Dev Perplexity 1.3194157291465405\n",
      "| Iter 2300 | Avg Train Loss 0.287041894197464 | Dev Perplexity 1.3194157291465405\n",
      "| Iter 2400 | Avg Train Loss 0.2629265937209129 | Dev Perplexity 1.3194157291465405\n",
      "| Iter 2500 | Avg Train Loss 0.26605305895209314 | Dev Perplexity 1.298744579311293\n",
      "| Iter 2600 | Avg Train Loss 0.2648737546801567 | Dev Perplexity 1.298744579311293\n",
      "| Iter 2700 | Avg Train Loss 0.27184833601117137 | Dev Perplexity 1.298744579311293\n",
      "| Iter 2800 | Avg Train Loss 0.2668475605547428 | Dev Perplexity 1.298744579311293\n"
     ]
    }
   ],
   "source": [
    "\n",
    "run(model, train_df, device, train_data_loader, val_data_loader)"
   ]
  },
  {
   "cell_type": "markdown",
   "id": "f74ea957",
   "metadata": {
    "papermill": {
     "duration": 0.013907,
     "end_time": "2022-07-06T05:31:13.193507",
     "exception": false,
     "start_time": "2022-07-06T05:31:13.179600",
     "status": "completed"
    },
    "tags": []
   },
   "source": [
    "# Demonstration"
   ]
  },
  {
   "cell_type": "code",
   "execution_count": 29,
   "id": "7e3dfa9b",
   "metadata": {
    "execution": {
     "iopub.execute_input": "2022-07-06T05:31:13.224294Z",
     "iopub.status.busy": "2022-07-06T05:31:13.223958Z",
     "iopub.status.idle": "2022-07-06T05:31:13.234067Z",
     "shell.execute_reply": "2022-07-06T05:31:13.233200Z"
    },
    "papermill": {
     "duration": 0.028331,
     "end_time": "2022-07-06T05:31:13.236227",
     "exception": false,
     "start_time": "2022-07-06T05:31:13.207896",
     "status": "completed"
    },
    "tags": []
   },
   "outputs": [],
   "source": [
    "import nltk\n",
    "\n",
    "def eval(model, tokenizer, first_question, second_question, device):\n",
    "    print(\"First Question:\",first_question)\n",
    "    print(\"Second Question:\",second_question)\n",
    "    first_question=text_clean(first_question)\n",
    "    second_question=text_clean(second_question)\n",
    "    q1 = nltk.word_tokenize(first_question)  # tokenize\n",
    "    q2 = nltk.word_tokenize(second_question)  # tokenize\n",
    "    \n",
    "        \n",
    "    inputs = tokenizer.encode_plus(\n",
    "        first_question,\n",
    "        second_question,\n",
    "        add_special_tokens=True,\n",
    "    )\n",
    "\n",
    "    ids = torch.tensor([inputs[\"input_ids\"]], dtype=torch.long).to(device, dtype=torch.long)\n",
    "    mask = torch.tensor([inputs[\"attention_mask\"]], dtype=torch.long).to(device, dtype=torch.long)\n",
    "    token_type_ids = torch.tensor([inputs[\"token_type_ids\"]], dtype=torch.long).to(device, dtype=torch.long)\n",
    "\n",
    "    with torch.no_grad():\n",
    "        model.eval()\n",
    "        output = model(ids=ids, mask=mask, token_type_ids=token_type_ids)\n",
    "        prob = nn.Sigmoid()(output).item()\n",
    "        \n",
    "        print(\"Similarilty   = \", prob)\n",
    "        if prob>0.50:\n",
    "            res=\"Similar\"\n",
    "        else:\n",
    "            res=\"Non Similar\"\n",
    "        print(\"result = \", res)\n",
    "\n",
    "\n",
    "        "
   ]
  },
  {
   "cell_type": "code",
   "execution_count": 30,
   "id": "80cfe66c",
   "metadata": {
    "execution": {
     "iopub.execute_input": "2022-07-06T05:31:13.266016Z",
     "iopub.status.busy": "2022-07-06T05:31:13.265753Z",
     "iopub.status.idle": "2022-07-06T05:31:13.296055Z",
     "shell.execute_reply": "2022-07-06T05:31:13.295058Z"
    },
    "papermill": {
     "duration": 0.047988,
     "end_time": "2022-07-06T05:31:13.298531",
     "exception": false,
     "start_time": "2022-07-06T05:31:13.250543",
     "status": "completed"
    },
    "tags": []
   },
   "outputs": [
    {
     "name": "stdout",
     "output_type": "stream",
     "text": [
      "First Question: how to register on hackerrank ?\n",
      "Second Question: how to register on hackerrank?\n",
      "Similarilty   =  0.9714460968971252\n",
      "result =  Similar\n"
     ]
    }
   ],
   "source": [
    "first_question = \"how to register on hackerrank ?\"\n",
    "second_question = \"how to register on hackerrank?\"\n",
    "\n",
    "eval(model, tokenizer, first_question, second_question, device)"
   ]
  },
  {
   "cell_type": "code",
   "execution_count": 31,
   "id": "30a38032",
   "metadata": {
    "execution": {
     "iopub.execute_input": "2022-07-06T05:31:13.328454Z",
     "iopub.status.busy": "2022-07-06T05:31:13.328183Z",
     "iopub.status.idle": "2022-07-06T05:31:13.344207Z",
     "shell.execute_reply": "2022-07-06T05:31:13.343071Z"
    },
    "papermill": {
     "duration": 0.033515,
     "end_time": "2022-07-06T05:31:13.346650",
     "exception": false,
     "start_time": "2022-07-06T05:31:13.313135",
     "status": "completed"
    },
    "tags": []
   },
   "outputs": [
    {
     "name": "stdout",
     "output_type": "stream",
     "text": [
      "First Question:  How many days are there in a week?\n",
      "Second Question: how to register on hackerrank?\n",
      "Similarilty   =  0.0007817269652150571\n",
      "result =  Non Similar\n"
     ]
    }
   ],
   "source": [
    "first_question = \" How many days are there in a week?\"\n",
    "second_question = \"how to register on hackerrank?\"\n",
    "\n",
    "eval(model, tokenizer, first_question, second_question, device)"
   ]
  },
  {
   "cell_type": "code",
   "execution_count": 32,
   "id": "a31dfc90",
   "metadata": {
    "execution": {
     "iopub.execute_input": "2022-07-06T05:31:13.376638Z",
     "iopub.status.busy": "2022-07-06T05:31:13.375834Z",
     "iopub.status.idle": "2022-07-06T05:31:13.391711Z",
     "shell.execute_reply": "2022-07-06T05:31:13.390523Z"
    },
    "papermill": {
     "duration": 0.032921,
     "end_time": "2022-07-06T05:31:13.393667",
     "exception": false,
     "start_time": "2022-07-06T05:31:13.360746",
     "status": "completed"
    },
    "tags": []
   },
   "outputs": [
    {
     "name": "stdout",
     "output_type": "stream",
     "text": [
      "First Question:  Can we use google coount to register on samsung prism?\n",
      "Second Question: how to register on samsung prism using google account ?\n",
      "Similarilty   =  0.7452526092529297\n",
      "result =  Similar\n"
     ]
    }
   ],
   "source": [
    "first_question = \" Can we use google coount to register on samsung prism?\"\n",
    "second_question = \"how to register on samsung prism using google account ?\"\n",
    "eval(model, tokenizer, first_question, second_question, device)"
   ]
  },
  {
   "cell_type": "code",
   "execution_count": null,
   "id": "2b9b292a",
   "metadata": {
    "papermill": {
     "duration": 0.014064,
     "end_time": "2022-07-06T05:31:13.422187",
     "exception": false,
     "start_time": "2022-07-06T05:31:13.408123",
     "status": "completed"
    },
    "tags": []
   },
   "outputs": [],
   "source": []
  }
 ],
 "metadata": {
  "kernelspec": {
   "display_name": "Python 3",
   "language": "python",
   "name": "python3"
  },
  "language_info": {
   "codemirror_mode": {
    "name": "ipython",
    "version": 3
   },
   "file_extension": ".py",
   "mimetype": "text/x-python",
   "name": "python",
   "nbconvert_exporter": "python",
   "pygments_lexer": "ipython3",
   "version": "3.7.12"
  },
  "papermill": {
   "default_parameters": {},
   "duration": 3574.910449,
   "end_time": "2022-07-06T05:31:16.235999",
   "environment_variables": {},
   "exception": null,
   "input_path": "__notebook__.ipynb",
   "output_path": "__notebook__.ipynb",
   "parameters": {},
   "start_time": "2022-07-06T04:31:41.325550",
   "version": "2.3.4"
  },
  "widgets": {
   "application/vnd.jupyter.widget-state+json": {
    "state": {
     "00fdc862f71046528e94b3fd6f72698e": {
      "model_module": "@jupyter-widgets/base",
      "model_module_version": "1.2.0",
      "model_name": "LayoutModel",
      "state": {
       "_model_module": "@jupyter-widgets/base",
       "_model_module_version": "1.2.0",
       "_model_name": "LayoutModel",
       "_view_count": null,
       "_view_module": "@jupyter-widgets/base",
       "_view_module_version": "1.2.0",
       "_view_name": "LayoutView",
       "align_content": null,
       "align_items": null,
       "align_self": null,
       "border": null,
       "bottom": null,
       "display": null,
       "flex": null,
       "flex_flow": null,
       "grid_area": null,
       "grid_auto_columns": null,
       "grid_auto_flow": null,
       "grid_auto_rows": null,
       "grid_column": null,
       "grid_gap": null,
       "grid_row": null,
       "grid_template_areas": null,
       "grid_template_columns": null,
       "grid_template_rows": null,
       "height": null,
       "justify_content": null,
       "justify_items": null,
       "left": null,
       "margin": null,
       "max_height": null,
       "max_width": null,
       "min_height": null,
       "min_width": null,
       "object_fit": null,
       "object_position": null,
       "order": null,
       "overflow": null,
       "overflow_x": null,
       "overflow_y": null,
       "padding": null,
       "right": null,
       "top": null,
       "visibility": null,
       "width": null
      }
     },
     "05147cbe89ce4c03bbf85c8fed73df21": {
      "model_module": "@jupyter-widgets/controls",
      "model_module_version": "1.5.0",
      "model_name": "FloatProgressModel",
      "state": {
       "_dom_classes": [],
       "_model_module": "@jupyter-widgets/controls",
       "_model_module_version": "1.5.0",
       "_model_name": "FloatProgressModel",
       "_view_count": null,
       "_view_module": "@jupyter-widgets/controls",
       "_view_module_version": "1.5.0",
       "_view_name": "ProgressView",
       "bar_style": "success",
       "description": "",
       "description_tooltip": null,
       "layout": "IPY_MODEL_9f178820d0d84de09ff6b1d2c0df14fc",
       "max": 440473133.0,
       "min": 0.0,
       "orientation": "horizontal",
       "style": "IPY_MODEL_b859644d3b3641a98b6f67e886fb1546",
       "value": 440473133.0
      }
     },
     "065ed28d414140c4aad103666a865a8b": {
      "model_module": "@jupyter-widgets/base",
      "model_module_version": "1.2.0",
      "model_name": "LayoutModel",
      "state": {
       "_model_module": "@jupyter-widgets/base",
       "_model_module_version": "1.2.0",
       "_model_name": "LayoutModel",
       "_view_count": null,
       "_view_module": "@jupyter-widgets/base",
       "_view_module_version": "1.2.0",
       "_view_name": "LayoutView",
       "align_content": null,
       "align_items": null,
       "align_self": null,
       "border": null,
       "bottom": null,
       "display": null,
       "flex": null,
       "flex_flow": null,
       "grid_area": null,
       "grid_auto_columns": null,
       "grid_auto_flow": null,
       "grid_auto_rows": null,
       "grid_column": null,
       "grid_gap": null,
       "grid_row": null,
       "grid_template_areas": null,
       "grid_template_columns": null,
       "grid_template_rows": null,
       "height": null,
       "justify_content": null,
       "justify_items": null,
       "left": null,
       "margin": null,
       "max_height": null,
       "max_width": null,
       "min_height": null,
       "min_width": null,
       "object_fit": null,
       "object_position": null,
       "order": null,
       "overflow": null,
       "overflow_x": null,
       "overflow_y": null,
       "padding": null,
       "right": null,
       "top": null,
       "visibility": null,
       "width": null
      }
     },
     "0bd17581e8364e0e95f3a3b65fe42ee0": {
      "model_module": "@jupyter-widgets/base",
      "model_module_version": "1.2.0",
      "model_name": "LayoutModel",
      "state": {
       "_model_module": "@jupyter-widgets/base",
       "_model_module_version": "1.2.0",
       "_model_name": "LayoutModel",
       "_view_count": null,
       "_view_module": "@jupyter-widgets/base",
       "_view_module_version": "1.2.0",
       "_view_name": "LayoutView",
       "align_content": null,
       "align_items": null,
       "align_self": null,
       "border": null,
       "bottom": null,
       "display": null,
       "flex": null,
       "flex_flow": null,
       "grid_area": null,
       "grid_auto_columns": null,
       "grid_auto_flow": null,
       "grid_auto_rows": null,
       "grid_column": null,
       "grid_gap": null,
       "grid_row": null,
       "grid_template_areas": null,
       "grid_template_columns": null,
       "grid_template_rows": null,
       "height": null,
       "justify_content": null,
       "justify_items": null,
       "left": null,
       "margin": null,
       "max_height": null,
       "max_width": null,
       "min_height": null,
       "min_width": null,
       "object_fit": null,
       "object_position": null,
       "order": null,
       "overflow": null,
       "overflow_x": null,
       "overflow_y": null,
       "padding": null,
       "right": null,
       "top": null,
       "visibility": null,
       "width": null
      }
     },
     "0f9497ed3af14d0ba9b8bcd5d39c7b59": {
      "model_module": "@jupyter-widgets/controls",
      "model_module_version": "1.5.0",
      "model_name": "HBoxModel",
      "state": {
       "_dom_classes": [],
       "_model_module": "@jupyter-widgets/controls",
       "_model_module_version": "1.5.0",
       "_model_name": "HBoxModel",
       "_view_count": null,
       "_view_module": "@jupyter-widgets/controls",
       "_view_module_version": "1.5.0",
       "_view_name": "HBoxView",
       "box_style": "",
       "children": [
        "IPY_MODEL_420b7faeead14b579332312f1ce8fc10",
        "IPY_MODEL_05147cbe89ce4c03bbf85c8fed73df21",
        "IPY_MODEL_59cd3b02052743ec8978d51431426586"
       ],
       "layout": "IPY_MODEL_2198409745904a70bc77e7dbc8dcf883"
      }
     },
     "12900b9c969f4b388246c9ed9db5c8ba": {
      "model_module": "@jupyter-widgets/controls",
      "model_module_version": "1.5.0",
      "model_name": "DescriptionStyleModel",
      "state": {
       "_model_module": "@jupyter-widgets/controls",
       "_model_module_version": "1.5.0",
       "_model_name": "DescriptionStyleModel",
       "_view_count": null,
       "_view_module": "@jupyter-widgets/base",
       "_view_module_version": "1.2.0",
       "_view_name": "StyleView",
       "description_width": ""
      }
     },
     "17d4603408c94ec9b838778b394735ab": {
      "model_module": "@jupyter-widgets/controls",
      "model_module_version": "1.5.0",
      "model_name": "HBoxModel",
      "state": {
       "_dom_classes": [],
       "_model_module": "@jupyter-widgets/controls",
       "_model_module_version": "1.5.0",
       "_model_name": "HBoxModel",
       "_view_count": null,
       "_view_module": "@jupyter-widgets/controls",
       "_view_module_version": "1.5.0",
       "_view_name": "HBoxView",
       "box_style": "",
       "children": [
        "IPY_MODEL_fe84e10815514b32a2fbb50c52a1b407",
        "IPY_MODEL_5c6e7d813bbf4a429d87e7398e94f90f",
        "IPY_MODEL_c7c74d832d6b4deaabfd5f49086622b9"
       ],
       "layout": "IPY_MODEL_fb19621cd5f24018a6ae26022d2ed126"
      }
     },
     "1da2ec23699c48ad8b4031a15f3cee07": {
      "model_module": "@jupyter-widgets/controls",
      "model_module_version": "1.5.0",
      "model_name": "DescriptionStyleModel",
      "state": {
       "_model_module": "@jupyter-widgets/controls",
       "_model_module_version": "1.5.0",
       "_model_name": "DescriptionStyleModel",
       "_view_count": null,
       "_view_module": "@jupyter-widgets/base",
       "_view_module_version": "1.2.0",
       "_view_name": "StyleView",
       "description_width": ""
      }
     },
     "2198409745904a70bc77e7dbc8dcf883": {
      "model_module": "@jupyter-widgets/base",
      "model_module_version": "1.2.0",
      "model_name": "LayoutModel",
      "state": {
       "_model_module": "@jupyter-widgets/base",
       "_model_module_version": "1.2.0",
       "_model_name": "LayoutModel",
       "_view_count": null,
       "_view_module": "@jupyter-widgets/base",
       "_view_module_version": "1.2.0",
       "_view_name": "LayoutView",
       "align_content": null,
       "align_items": null,
       "align_self": null,
       "border": null,
       "bottom": null,
       "display": null,
       "flex": null,
       "flex_flow": null,
       "grid_area": null,
       "grid_auto_columns": null,
       "grid_auto_flow": null,
       "grid_auto_rows": null,
       "grid_column": null,
       "grid_gap": null,
       "grid_row": null,
       "grid_template_areas": null,
       "grid_template_columns": null,
       "grid_template_rows": null,
       "height": null,
       "justify_content": null,
       "justify_items": null,
       "left": null,
       "margin": null,
       "max_height": null,
       "max_width": null,
       "min_height": null,
       "min_width": null,
       "object_fit": null,
       "object_position": null,
       "order": null,
       "overflow": null,
       "overflow_x": null,
       "overflow_y": null,
       "padding": null,
       "right": null,
       "top": null,
       "visibility": null,
       "width": null
      }
     },
     "26bf3ca82bb8492e8cd968b390e6342f": {
      "model_module": "@jupyter-widgets/base",
      "model_module_version": "1.2.0",
      "model_name": "LayoutModel",
      "state": {
       "_model_module": "@jupyter-widgets/base",
       "_model_module_version": "1.2.0",
       "_model_name": "LayoutModel",
       "_view_count": null,
       "_view_module": "@jupyter-widgets/base",
       "_view_module_version": "1.2.0",
       "_view_name": "LayoutView",
       "align_content": null,
       "align_items": null,
       "align_self": null,
       "border": null,
       "bottom": null,
       "display": null,
       "flex": null,
       "flex_flow": null,
       "grid_area": null,
       "grid_auto_columns": null,
       "grid_auto_flow": null,
       "grid_auto_rows": null,
       "grid_column": null,
       "grid_gap": null,
       "grid_row": null,
       "grid_template_areas": null,
       "grid_template_columns": null,
       "grid_template_rows": null,
       "height": null,
       "justify_content": null,
       "justify_items": null,
       "left": null,
       "margin": null,
       "max_height": null,
       "max_width": null,
       "min_height": null,
       "min_width": null,
       "object_fit": null,
       "object_position": null,
       "order": null,
       "overflow": null,
       "overflow_x": null,
       "overflow_y": null,
       "padding": null,
       "right": null,
       "top": null,
       "visibility": null,
       "width": null
      }
     },
     "2b8fade08e8f4959848a76f4269611c6": {
      "model_module": "@jupyter-widgets/controls",
      "model_module_version": "1.5.0",
      "model_name": "DescriptionStyleModel",
      "state": {
       "_model_module": "@jupyter-widgets/controls",
       "_model_module_version": "1.5.0",
       "_model_name": "DescriptionStyleModel",
       "_view_count": null,
       "_view_module": "@jupyter-widgets/base",
       "_view_module_version": "1.2.0",
       "_view_name": "StyleView",
       "description_width": ""
      }
     },
     "39535083305e4d079438e61269983985": {
      "model_module": "@jupyter-widgets/controls",
      "model_module_version": "1.5.0",
      "model_name": "HTMLModel",
      "state": {
       "_dom_classes": [],
       "_model_module": "@jupyter-widgets/controls",
       "_model_module_version": "1.5.0",
       "_model_name": "HTMLModel",
       "_view_count": null,
       "_view_module": "@jupyter-widgets/controls",
       "_view_module_version": "1.5.0",
       "_view_name": "HTMLView",
       "description": "",
       "description_tooltip": null,
       "layout": "IPY_MODEL_00fdc862f71046528e94b3fd6f72698e",
       "placeholder": "​",
       "style": "IPY_MODEL_f9a6eb3495694926b9ac7db2ffce3435",
       "value": " 570/570 [00:00&lt;00:00, 21.5kB/s]"
      }
     },
     "3aa5460faa66415085057ce44f55f9cc": {
      "model_module": "@jupyter-widgets/controls",
      "model_module_version": "1.5.0",
      "model_name": "ProgressStyleModel",
      "state": {
       "_model_module": "@jupyter-widgets/controls",
       "_model_module_version": "1.5.0",
       "_model_name": "ProgressStyleModel",
       "_view_count": null,
       "_view_module": "@jupyter-widgets/base",
       "_view_module_version": "1.2.0",
       "_view_name": "StyleView",
       "bar_color": null,
       "description_width": ""
      }
     },
     "3c66646b51e341e193c70d8607c0e7d6": {
      "model_module": "@jupyter-widgets/controls",
      "model_module_version": "1.5.0",
      "model_name": "ProgressStyleModel",
      "state": {
       "_model_module": "@jupyter-widgets/controls",
       "_model_module_version": "1.5.0",
       "_model_name": "ProgressStyleModel",
       "_view_count": null,
       "_view_module": "@jupyter-widgets/base",
       "_view_module_version": "1.2.0",
       "_view_name": "StyleView",
       "bar_color": null,
       "description_width": ""
      }
     },
     "3ed734752149481e809f53f7578ea3a1": {
      "model_module": "@jupyter-widgets/base",
      "model_module_version": "1.2.0",
      "model_name": "LayoutModel",
      "state": {
       "_model_module": "@jupyter-widgets/base",
       "_model_module_version": "1.2.0",
       "_model_name": "LayoutModel",
       "_view_count": null,
       "_view_module": "@jupyter-widgets/base",
       "_view_module_version": "1.2.0",
       "_view_name": "LayoutView",
       "align_content": null,
       "align_items": null,
       "align_self": null,
       "border": null,
       "bottom": null,
       "display": null,
       "flex": null,
       "flex_flow": null,
       "grid_area": null,
       "grid_auto_columns": null,
       "grid_auto_flow": null,
       "grid_auto_rows": null,
       "grid_column": null,
       "grid_gap": null,
       "grid_row": null,
       "grid_template_areas": null,
       "grid_template_columns": null,
       "grid_template_rows": null,
       "height": null,
       "justify_content": null,
       "justify_items": null,
       "left": null,
       "margin": null,
       "max_height": null,
       "max_width": null,
       "min_height": null,
       "min_width": null,
       "object_fit": null,
       "object_position": null,
       "order": null,
       "overflow": null,
       "overflow_x": null,
       "overflow_y": null,
       "padding": null,
       "right": null,
       "top": null,
       "visibility": null,
       "width": null
      }
     },
     "420b7faeead14b579332312f1ce8fc10": {
      "model_module": "@jupyter-widgets/controls",
      "model_module_version": "1.5.0",
      "model_name": "HTMLModel",
      "state": {
       "_dom_classes": [],
       "_model_module": "@jupyter-widgets/controls",
       "_model_module_version": "1.5.0",
       "_model_name": "HTMLModel",
       "_view_count": null,
       "_view_module": "@jupyter-widgets/controls",
       "_view_module_version": "1.5.0",
       "_view_name": "HTMLView",
       "description": "",
       "description_tooltip": null,
       "layout": "IPY_MODEL_b2c7ef92274241c4b73768bf707054bb",
       "placeholder": "​",
       "style": "IPY_MODEL_1da2ec23699c48ad8b4031a15f3cee07",
       "value": "Downloading: 100%"
      }
     },
     "42824ddfdcf34a4496528fe3e2f4dd6b": {
      "model_module": "@jupyter-widgets/base",
      "model_module_version": "1.2.0",
      "model_name": "LayoutModel",
      "state": {
       "_model_module": "@jupyter-widgets/base",
       "_model_module_version": "1.2.0",
       "_model_name": "LayoutModel",
       "_view_count": null,
       "_view_module": "@jupyter-widgets/base",
       "_view_module_version": "1.2.0",
       "_view_name": "LayoutView",
       "align_content": null,
       "align_items": null,
       "align_self": null,
       "border": null,
       "bottom": null,
       "display": null,
       "flex": null,
       "flex_flow": null,
       "grid_area": null,
       "grid_auto_columns": null,
       "grid_auto_flow": null,
       "grid_auto_rows": null,
       "grid_column": null,
       "grid_gap": null,
       "grid_row": null,
       "grid_template_areas": null,
       "grid_template_columns": null,
       "grid_template_rows": null,
       "height": null,
       "justify_content": null,
       "justify_items": null,
       "left": null,
       "margin": null,
       "max_height": null,
       "max_width": null,
       "min_height": null,
       "min_width": null,
       "object_fit": null,
       "object_position": null,
       "order": null,
       "overflow": null,
       "overflow_x": null,
       "overflow_y": null,
       "padding": null,
       "right": null,
       "top": null,
       "visibility": null,
       "width": null
      }
     },
     "46943e0e888b4d1c8e303f1246b6f707": {
      "model_module": "@jupyter-widgets/controls",
      "model_module_version": "1.5.0",
      "model_name": "HTMLModel",
      "state": {
       "_dom_classes": [],
       "_model_module": "@jupyter-widgets/controls",
       "_model_module_version": "1.5.0",
       "_model_name": "HTMLModel",
       "_view_count": null,
       "_view_module": "@jupyter-widgets/controls",
       "_view_module_version": "1.5.0",
       "_view_name": "HTMLView",
       "description": "",
       "description_tooltip": null,
       "layout": "IPY_MODEL_deb5bd02e6fb4ccea0d4b62e11170a32",
       "placeholder": "​",
       "style": "IPY_MODEL_2b8fade08e8f4959848a76f4269611c6",
       "value": "Downloading: 100%"
      }
     },
     "47871d8ce29e4ec6bf921ecfb408b908": {
      "model_module": "@jupyter-widgets/base",
      "model_module_version": "1.2.0",
      "model_name": "LayoutModel",
      "state": {
       "_model_module": "@jupyter-widgets/base",
       "_model_module_version": "1.2.0",
       "_model_name": "LayoutModel",
       "_view_count": null,
       "_view_module": "@jupyter-widgets/base",
       "_view_module_version": "1.2.0",
       "_view_name": "LayoutView",
       "align_content": null,
       "align_items": null,
       "align_self": null,
       "border": null,
       "bottom": null,
       "display": null,
       "flex": null,
       "flex_flow": null,
       "grid_area": null,
       "grid_auto_columns": null,
       "grid_auto_flow": null,
       "grid_auto_rows": null,
       "grid_column": null,
       "grid_gap": null,
       "grid_row": null,
       "grid_template_areas": null,
       "grid_template_columns": null,
       "grid_template_rows": null,
       "height": null,
       "justify_content": null,
       "justify_items": null,
       "left": null,
       "margin": null,
       "max_height": null,
       "max_width": null,
       "min_height": null,
       "min_width": null,
       "object_fit": null,
       "object_position": null,
       "order": null,
       "overflow": null,
       "overflow_x": null,
       "overflow_y": null,
       "padding": null,
       "right": null,
       "top": null,
       "visibility": null,
       "width": null
      }
     },
     "59cd3b02052743ec8978d51431426586": {
      "model_module": "@jupyter-widgets/controls",
      "model_module_version": "1.5.0",
      "model_name": "HTMLModel",
      "state": {
       "_dom_classes": [],
       "_model_module": "@jupyter-widgets/controls",
       "_model_module_version": "1.5.0",
       "_model_name": "HTMLModel",
       "_view_count": null,
       "_view_module": "@jupyter-widgets/controls",
       "_view_module_version": "1.5.0",
       "_view_name": "HTMLView",
       "description": "",
       "description_tooltip": null,
       "layout": "IPY_MODEL_42824ddfdcf34a4496528fe3e2f4dd6b",
       "placeholder": "​",
       "style": "IPY_MODEL_aa537d3b5f9e4ef19bee1ae3ffe80154",
       "value": " 420M/420M [00:09&lt;00:00, 45.3MB/s]"
      }
     },
     "5c6e7d813bbf4a429d87e7398e94f90f": {
      "model_module": "@jupyter-widgets/controls",
      "model_module_version": "1.5.0",
      "model_name": "FloatProgressModel",
      "state": {
       "_dom_classes": [],
       "_model_module": "@jupyter-widgets/controls",
       "_model_module_version": "1.5.0",
       "_model_name": "FloatProgressModel",
       "_view_count": null,
       "_view_module": "@jupyter-widgets/controls",
       "_view_module_version": "1.5.0",
       "_view_name": "ProgressView",
       "bar_style": "success",
       "description": "",
       "description_tooltip": null,
       "layout": "IPY_MODEL_776c42384f304389ab01b729ed76d5f3",
       "max": 231508.0,
       "min": 0.0,
       "orientation": "horizontal",
       "style": "IPY_MODEL_3c66646b51e341e193c70d8607c0e7d6",
       "value": 231508.0
      }
     },
     "75edd1ce503a477ea8ad336e89eae465": {
      "model_module": "@jupyter-widgets/controls",
      "model_module_version": "1.5.0",
      "model_name": "DescriptionStyleModel",
      "state": {
       "_model_module": "@jupyter-widgets/controls",
       "_model_module_version": "1.5.0",
       "_model_name": "DescriptionStyleModel",
       "_view_count": null,
       "_view_module": "@jupyter-widgets/base",
       "_view_module_version": "1.2.0",
       "_view_name": "StyleView",
       "description_width": ""
      }
     },
     "776c42384f304389ab01b729ed76d5f3": {
      "model_module": "@jupyter-widgets/base",
      "model_module_version": "1.2.0",
      "model_name": "LayoutModel",
      "state": {
       "_model_module": "@jupyter-widgets/base",
       "_model_module_version": "1.2.0",
       "_model_name": "LayoutModel",
       "_view_count": null,
       "_view_module": "@jupyter-widgets/base",
       "_view_module_version": "1.2.0",
       "_view_name": "LayoutView",
       "align_content": null,
       "align_items": null,
       "align_self": null,
       "border": null,
       "bottom": null,
       "display": null,
       "flex": null,
       "flex_flow": null,
       "grid_area": null,
       "grid_auto_columns": null,
       "grid_auto_flow": null,
       "grid_auto_rows": null,
       "grid_column": null,
       "grid_gap": null,
       "grid_row": null,
       "grid_template_areas": null,
       "grid_template_columns": null,
       "grid_template_rows": null,
       "height": null,
       "justify_content": null,
       "justify_items": null,
       "left": null,
       "margin": null,
       "max_height": null,
       "max_width": null,
       "min_height": null,
       "min_width": null,
       "object_fit": null,
       "object_position": null,
       "order": null,
       "overflow": null,
       "overflow_x": null,
       "overflow_y": null,
       "padding": null,
       "right": null,
       "top": null,
       "visibility": null,
       "width": null
      }
     },
     "876f1c9aa7604c3181b36dbfad2c6da3": {
      "model_module": "@jupyter-widgets/controls",
      "model_module_version": "1.5.0",
      "model_name": "DescriptionStyleModel",
      "state": {
       "_model_module": "@jupyter-widgets/controls",
       "_model_module_version": "1.5.0",
       "_model_name": "DescriptionStyleModel",
       "_view_count": null,
       "_view_module": "@jupyter-widgets/base",
       "_view_module_version": "1.2.0",
       "_view_name": "StyleView",
       "description_width": ""
      }
     },
     "91c4a4374cf2472084bed1e19916cdce": {
      "model_module": "@jupyter-widgets/controls",
      "model_module_version": "1.5.0",
      "model_name": "HBoxModel",
      "state": {
       "_dom_classes": [],
       "_model_module": "@jupyter-widgets/controls",
       "_model_module_version": "1.5.0",
       "_model_name": "HBoxModel",
       "_view_count": null,
       "_view_module": "@jupyter-widgets/controls",
       "_view_module_version": "1.5.0",
       "_view_name": "HBoxView",
       "box_style": "",
       "children": [
        "IPY_MODEL_46943e0e888b4d1c8e303f1246b6f707",
        "IPY_MODEL_cb28a6f3403e4fbe8f47419e5258c89d",
        "IPY_MODEL_39535083305e4d079438e61269983985"
       ],
       "layout": "IPY_MODEL_0bd17581e8364e0e95f3a3b65fe42ee0"
      }
     },
     "9f178820d0d84de09ff6b1d2c0df14fc": {
      "model_module": "@jupyter-widgets/base",
      "model_module_version": "1.2.0",
      "model_name": "LayoutModel",
      "state": {
       "_model_module": "@jupyter-widgets/base",
       "_model_module_version": "1.2.0",
       "_model_name": "LayoutModel",
       "_view_count": null,
       "_view_module": "@jupyter-widgets/base",
       "_view_module_version": "1.2.0",
       "_view_name": "LayoutView",
       "align_content": null,
       "align_items": null,
       "align_self": null,
       "border": null,
       "bottom": null,
       "display": null,
       "flex": null,
       "flex_flow": null,
       "grid_area": null,
       "grid_auto_columns": null,
       "grid_auto_flow": null,
       "grid_auto_rows": null,
       "grid_column": null,
       "grid_gap": null,
       "grid_row": null,
       "grid_template_areas": null,
       "grid_template_columns": null,
       "grid_template_rows": null,
       "height": null,
       "justify_content": null,
       "justify_items": null,
       "left": null,
       "margin": null,
       "max_height": null,
       "max_width": null,
       "min_height": null,
       "min_width": null,
       "object_fit": null,
       "object_position": null,
       "order": null,
       "overflow": null,
       "overflow_x": null,
       "overflow_y": null,
       "padding": null,
       "right": null,
       "top": null,
       "visibility": null,
       "width": null
      }
     },
     "a33ea150c8a645e894ee4ad6981dce30": {
      "model_module": "@jupyter-widgets/controls",
      "model_module_version": "1.5.0",
      "model_name": "HBoxModel",
      "state": {
       "_dom_classes": [],
       "_model_module": "@jupyter-widgets/controls",
       "_model_module_version": "1.5.0",
       "_model_name": "HBoxModel",
       "_view_count": null,
       "_view_module": "@jupyter-widgets/controls",
       "_view_module_version": "1.5.0",
       "_view_name": "HBoxView",
       "box_style": "",
       "children": [
        "IPY_MODEL_fb821e9d376f466093ccf81587e3502f",
        "IPY_MODEL_d9a5fb1c25304ca28658451f0f76ed02",
        "IPY_MODEL_aa270d05d5654bcc8046a7613a6d336b"
       ],
       "layout": "IPY_MODEL_d03fc099645a4aad9d2d551ba24728f4"
      }
     },
     "aa270d05d5654bcc8046a7613a6d336b": {
      "model_module": "@jupyter-widgets/controls",
      "model_module_version": "1.5.0",
      "model_name": "HTMLModel",
      "state": {
       "_dom_classes": [],
       "_model_module": "@jupyter-widgets/controls",
       "_model_module_version": "1.5.0",
       "_model_name": "HTMLModel",
       "_view_count": null,
       "_view_module": "@jupyter-widgets/controls",
       "_view_module_version": "1.5.0",
       "_view_name": "HTMLView",
       "description": "",
       "description_tooltip": null,
       "layout": "IPY_MODEL_3ed734752149481e809f53f7578ea3a1",
       "placeholder": "​",
       "style": "IPY_MODEL_75edd1ce503a477ea8ad336e89eae465",
       "value": " 28.0/28.0 [00:00&lt;00:00, 989B/s]"
      }
     },
     "aa537d3b5f9e4ef19bee1ae3ffe80154": {
      "model_module": "@jupyter-widgets/controls",
      "model_module_version": "1.5.0",
      "model_name": "DescriptionStyleModel",
      "state": {
       "_model_module": "@jupyter-widgets/controls",
       "_model_module_version": "1.5.0",
       "_model_name": "DescriptionStyleModel",
       "_view_count": null,
       "_view_module": "@jupyter-widgets/base",
       "_view_module_version": "1.2.0",
       "_view_name": "StyleView",
       "description_width": ""
      }
     },
     "b2c7ef92274241c4b73768bf707054bb": {
      "model_module": "@jupyter-widgets/base",
      "model_module_version": "1.2.0",
      "model_name": "LayoutModel",
      "state": {
       "_model_module": "@jupyter-widgets/base",
       "_model_module_version": "1.2.0",
       "_model_name": "LayoutModel",
       "_view_count": null,
       "_view_module": "@jupyter-widgets/base",
       "_view_module_version": "1.2.0",
       "_view_name": "LayoutView",
       "align_content": null,
       "align_items": null,
       "align_self": null,
       "border": null,
       "bottom": null,
       "display": null,
       "flex": null,
       "flex_flow": null,
       "grid_area": null,
       "grid_auto_columns": null,
       "grid_auto_flow": null,
       "grid_auto_rows": null,
       "grid_column": null,
       "grid_gap": null,
       "grid_row": null,
       "grid_template_areas": null,
       "grid_template_columns": null,
       "grid_template_rows": null,
       "height": null,
       "justify_content": null,
       "justify_items": null,
       "left": null,
       "margin": null,
       "max_height": null,
       "max_width": null,
       "min_height": null,
       "min_width": null,
       "object_fit": null,
       "object_position": null,
       "order": null,
       "overflow": null,
       "overflow_x": null,
       "overflow_y": null,
       "padding": null,
       "right": null,
       "top": null,
       "visibility": null,
       "width": null
      }
     },
     "b3b03cad5bb74b81b5e6aa9f0293f57a": {
      "model_module": "@jupyter-widgets/controls",
      "model_module_version": "1.5.0",
      "model_name": "ProgressStyleModel",
      "state": {
       "_model_module": "@jupyter-widgets/controls",
       "_model_module_version": "1.5.0",
       "_model_name": "ProgressStyleModel",
       "_view_count": null,
       "_view_module": "@jupyter-widgets/base",
       "_view_module_version": "1.2.0",
       "_view_name": "StyleView",
       "bar_color": null,
       "description_width": ""
      }
     },
     "b859644d3b3641a98b6f67e886fb1546": {
      "model_module": "@jupyter-widgets/controls",
      "model_module_version": "1.5.0",
      "model_name": "ProgressStyleModel",
      "state": {
       "_model_module": "@jupyter-widgets/controls",
       "_model_module_version": "1.5.0",
       "_model_name": "ProgressStyleModel",
       "_view_count": null,
       "_view_module": "@jupyter-widgets/base",
       "_view_module_version": "1.2.0",
       "_view_name": "StyleView",
       "bar_color": null,
       "description_width": ""
      }
     },
     "c7c74d832d6b4deaabfd5f49086622b9": {
      "model_module": "@jupyter-widgets/controls",
      "model_module_version": "1.5.0",
      "model_name": "HTMLModel",
      "state": {
       "_dom_classes": [],
       "_model_module": "@jupyter-widgets/controls",
       "_model_module_version": "1.5.0",
       "_model_name": "HTMLModel",
       "_view_count": null,
       "_view_module": "@jupyter-widgets/controls",
       "_view_module_version": "1.5.0",
       "_view_name": "HTMLView",
       "description": "",
       "description_tooltip": null,
       "layout": "IPY_MODEL_47871d8ce29e4ec6bf921ecfb408b908",
       "placeholder": "​",
       "style": "IPY_MODEL_876f1c9aa7604c3181b36dbfad2c6da3",
       "value": " 226k/226k [00:00&lt;00:00, 570kB/s]"
      }
     },
     "cb28a6f3403e4fbe8f47419e5258c89d": {
      "model_module": "@jupyter-widgets/controls",
      "model_module_version": "1.5.0",
      "model_name": "FloatProgressModel",
      "state": {
       "_dom_classes": [],
       "_model_module": "@jupyter-widgets/controls",
       "_model_module_version": "1.5.0",
       "_model_name": "FloatProgressModel",
       "_view_count": null,
       "_view_module": "@jupyter-widgets/controls",
       "_view_module_version": "1.5.0",
       "_view_name": "ProgressView",
       "bar_style": "success",
       "description": "",
       "description_tooltip": null,
       "layout": "IPY_MODEL_f60c56db0b864165834d44a8ac3e50b0",
       "max": 570.0,
       "min": 0.0,
       "orientation": "horizontal",
       "style": "IPY_MODEL_b3b03cad5bb74b81b5e6aa9f0293f57a",
       "value": 570.0
      }
     },
     "d03fc099645a4aad9d2d551ba24728f4": {
      "model_module": "@jupyter-widgets/base",
      "model_module_version": "1.2.0",
      "model_name": "LayoutModel",
      "state": {
       "_model_module": "@jupyter-widgets/base",
       "_model_module_version": "1.2.0",
       "_model_name": "LayoutModel",
       "_view_count": null,
       "_view_module": "@jupyter-widgets/base",
       "_view_module_version": "1.2.0",
       "_view_name": "LayoutView",
       "align_content": null,
       "align_items": null,
       "align_self": null,
       "border": null,
       "bottom": null,
       "display": null,
       "flex": null,
       "flex_flow": null,
       "grid_area": null,
       "grid_auto_columns": null,
       "grid_auto_flow": null,
       "grid_auto_rows": null,
       "grid_column": null,
       "grid_gap": null,
       "grid_row": null,
       "grid_template_areas": null,
       "grid_template_columns": null,
       "grid_template_rows": null,
       "height": null,
       "justify_content": null,
       "justify_items": null,
       "left": null,
       "margin": null,
       "max_height": null,
       "max_width": null,
       "min_height": null,
       "min_width": null,
       "object_fit": null,
       "object_position": null,
       "order": null,
       "overflow": null,
       "overflow_x": null,
       "overflow_y": null,
       "padding": null,
       "right": null,
       "top": null,
       "visibility": null,
       "width": null
      }
     },
     "d0a3b5f3fa3041a6b8c58cd6d886b2a9": {
      "model_module": "@jupyter-widgets/controls",
      "model_module_version": "1.5.0",
      "model_name": "DescriptionStyleModel",
      "state": {
       "_model_module": "@jupyter-widgets/controls",
       "_model_module_version": "1.5.0",
       "_model_name": "DescriptionStyleModel",
       "_view_count": null,
       "_view_module": "@jupyter-widgets/base",
       "_view_module_version": "1.2.0",
       "_view_name": "StyleView",
       "description_width": ""
      }
     },
     "d9a5fb1c25304ca28658451f0f76ed02": {
      "model_module": "@jupyter-widgets/controls",
      "model_module_version": "1.5.0",
      "model_name": "FloatProgressModel",
      "state": {
       "_dom_classes": [],
       "_model_module": "@jupyter-widgets/controls",
       "_model_module_version": "1.5.0",
       "_model_name": "FloatProgressModel",
       "_view_count": null,
       "_view_module": "@jupyter-widgets/controls",
       "_view_module_version": "1.5.0",
       "_view_name": "ProgressView",
       "bar_style": "success",
       "description": "",
       "description_tooltip": null,
       "layout": "IPY_MODEL_065ed28d414140c4aad103666a865a8b",
       "max": 28.0,
       "min": 0.0,
       "orientation": "horizontal",
       "style": "IPY_MODEL_3aa5460faa66415085057ce44f55f9cc",
       "value": 28.0
      }
     },
     "deb5bd02e6fb4ccea0d4b62e11170a32": {
      "model_module": "@jupyter-widgets/base",
      "model_module_version": "1.2.0",
      "model_name": "LayoutModel",
      "state": {
       "_model_module": "@jupyter-widgets/base",
       "_model_module_version": "1.2.0",
       "_model_name": "LayoutModel",
       "_view_count": null,
       "_view_module": "@jupyter-widgets/base",
       "_view_module_version": "1.2.0",
       "_view_name": "LayoutView",
       "align_content": null,
       "align_items": null,
       "align_self": null,
       "border": null,
       "bottom": null,
       "display": null,
       "flex": null,
       "flex_flow": null,
       "grid_area": null,
       "grid_auto_columns": null,
       "grid_auto_flow": null,
       "grid_auto_rows": null,
       "grid_column": null,
       "grid_gap": null,
       "grid_row": null,
       "grid_template_areas": null,
       "grid_template_columns": null,
       "grid_template_rows": null,
       "height": null,
       "justify_content": null,
       "justify_items": null,
       "left": null,
       "margin": null,
       "max_height": null,
       "max_width": null,
       "min_height": null,
       "min_width": null,
       "object_fit": null,
       "object_position": null,
       "order": null,
       "overflow": null,
       "overflow_x": null,
       "overflow_y": null,
       "padding": null,
       "right": null,
       "top": null,
       "visibility": null,
       "width": null
      }
     },
     "e3db655f56d945049033d373a97ac741": {
      "model_module": "@jupyter-widgets/base",
      "model_module_version": "1.2.0",
      "model_name": "LayoutModel",
      "state": {
       "_model_module": "@jupyter-widgets/base",
       "_model_module_version": "1.2.0",
       "_model_name": "LayoutModel",
       "_view_count": null,
       "_view_module": "@jupyter-widgets/base",
       "_view_module_version": "1.2.0",
       "_view_name": "LayoutView",
       "align_content": null,
       "align_items": null,
       "align_self": null,
       "border": null,
       "bottom": null,
       "display": null,
       "flex": null,
       "flex_flow": null,
       "grid_area": null,
       "grid_auto_columns": null,
       "grid_auto_flow": null,
       "grid_auto_rows": null,
       "grid_column": null,
       "grid_gap": null,
       "grid_row": null,
       "grid_template_areas": null,
       "grid_template_columns": null,
       "grid_template_rows": null,
       "height": null,
       "justify_content": null,
       "justify_items": null,
       "left": null,
       "margin": null,
       "max_height": null,
       "max_width": null,
       "min_height": null,
       "min_width": null,
       "object_fit": null,
       "object_position": null,
       "order": null,
       "overflow": null,
       "overflow_x": null,
       "overflow_y": null,
       "padding": null,
       "right": null,
       "top": null,
       "visibility": null,
       "width": null
      }
     },
     "f60c56db0b864165834d44a8ac3e50b0": {
      "model_module": "@jupyter-widgets/base",
      "model_module_version": "1.2.0",
      "model_name": "LayoutModel",
      "state": {
       "_model_module": "@jupyter-widgets/base",
       "_model_module_version": "1.2.0",
       "_model_name": "LayoutModel",
       "_view_count": null,
       "_view_module": "@jupyter-widgets/base",
       "_view_module_version": "1.2.0",
       "_view_name": "LayoutView",
       "align_content": null,
       "align_items": null,
       "align_self": null,
       "border": null,
       "bottom": null,
       "display": null,
       "flex": null,
       "flex_flow": null,
       "grid_area": null,
       "grid_auto_columns": null,
       "grid_auto_flow": null,
       "grid_auto_rows": null,
       "grid_column": null,
       "grid_gap": null,
       "grid_row": null,
       "grid_template_areas": null,
       "grid_template_columns": null,
       "grid_template_rows": null,
       "height": null,
       "justify_content": null,
       "justify_items": null,
       "left": null,
       "margin": null,
       "max_height": null,
       "max_width": null,
       "min_height": null,
       "min_width": null,
       "object_fit": null,
       "object_position": null,
       "order": null,
       "overflow": null,
       "overflow_x": null,
       "overflow_y": null,
       "padding": null,
       "right": null,
       "top": null,
       "visibility": null,
       "width": null
      }
     },
     "f9a6eb3495694926b9ac7db2ffce3435": {
      "model_module": "@jupyter-widgets/controls",
      "model_module_version": "1.5.0",
      "model_name": "DescriptionStyleModel",
      "state": {
       "_model_module": "@jupyter-widgets/controls",
       "_model_module_version": "1.5.0",
       "_model_name": "DescriptionStyleModel",
       "_view_count": null,
       "_view_module": "@jupyter-widgets/base",
       "_view_module_version": "1.2.0",
       "_view_name": "StyleView",
       "description_width": ""
      }
     },
     "fb19621cd5f24018a6ae26022d2ed126": {
      "model_module": "@jupyter-widgets/base",
      "model_module_version": "1.2.0",
      "model_name": "LayoutModel",
      "state": {
       "_model_module": "@jupyter-widgets/base",
       "_model_module_version": "1.2.0",
       "_model_name": "LayoutModel",
       "_view_count": null,
       "_view_module": "@jupyter-widgets/base",
       "_view_module_version": "1.2.0",
       "_view_name": "LayoutView",
       "align_content": null,
       "align_items": null,
       "align_self": null,
       "border": null,
       "bottom": null,
       "display": null,
       "flex": null,
       "flex_flow": null,
       "grid_area": null,
       "grid_auto_columns": null,
       "grid_auto_flow": null,
       "grid_auto_rows": null,
       "grid_column": null,
       "grid_gap": null,
       "grid_row": null,
       "grid_template_areas": null,
       "grid_template_columns": null,
       "grid_template_rows": null,
       "height": null,
       "justify_content": null,
       "justify_items": null,
       "left": null,
       "margin": null,
       "max_height": null,
       "max_width": null,
       "min_height": null,
       "min_width": null,
       "object_fit": null,
       "object_position": null,
       "order": null,
       "overflow": null,
       "overflow_x": null,
       "overflow_y": null,
       "padding": null,
       "right": null,
       "top": null,
       "visibility": null,
       "width": null
      }
     },
     "fb821e9d376f466093ccf81587e3502f": {
      "model_module": "@jupyter-widgets/controls",
      "model_module_version": "1.5.0",
      "model_name": "HTMLModel",
      "state": {
       "_dom_classes": [],
       "_model_module": "@jupyter-widgets/controls",
       "_model_module_version": "1.5.0",
       "_model_name": "HTMLModel",
       "_view_count": null,
       "_view_module": "@jupyter-widgets/controls",
       "_view_module_version": "1.5.0",
       "_view_name": "HTMLView",
       "description": "",
       "description_tooltip": null,
       "layout": "IPY_MODEL_26bf3ca82bb8492e8cd968b390e6342f",
       "placeholder": "​",
       "style": "IPY_MODEL_12900b9c969f4b388246c9ed9db5c8ba",
       "value": "Downloading: 100%"
      }
     },
     "fe84e10815514b32a2fbb50c52a1b407": {
      "model_module": "@jupyter-widgets/controls",
      "model_module_version": "1.5.0",
      "model_name": "HTMLModel",
      "state": {
       "_dom_classes": [],
       "_model_module": "@jupyter-widgets/controls",
       "_model_module_version": "1.5.0",
       "_model_name": "HTMLModel",
       "_view_count": null,
       "_view_module": "@jupyter-widgets/controls",
       "_view_module_version": "1.5.0",
       "_view_name": "HTMLView",
       "description": "",
       "description_tooltip": null,
       "layout": "IPY_MODEL_e3db655f56d945049033d373a97ac741",
       "placeholder": "​",
       "style": "IPY_MODEL_d0a3b5f3fa3041a6b8c58cd6d886b2a9",
       "value": "Downloading: 100%"
      }
     }
    },
    "version_major": 2,
    "version_minor": 0
   }
  }
 },
 "nbformat": 4,
 "nbformat_minor": 5
}
